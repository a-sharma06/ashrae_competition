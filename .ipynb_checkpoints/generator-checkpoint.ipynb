{
 "cells": [
  {
   "cell_type": "code",
   "execution_count": 1,
   "metadata": {},
   "outputs": [
    {
     "name": "stderr",
     "output_type": "stream",
     "text": [
      "Using TensorFlow backend.\n"
     ]
    }
   ],
   "source": [
    "import numpy as np\n",
    "import pandas as pd\n",
    "\n",
    "import keras\n",
    "from keras.preprocessing.sequence import TimeseriesGenerator\n",
    "\n",
    "import matplotlib.pyplot as plt"
   ]
  },
  {
   "cell_type": "code",
   "execution_count": 2,
   "metadata": {},
   "outputs": [],
   "source": [
    "train = pd.read_csv(\"gs://123test_bucket/train.csv\")"
   ]
  },
  {
   "cell_type": "markdown",
   "metadata": {},
   "source": [
    "#### Exploring TimeseriesGenerator using dummy data"
   ]
  },
  {
   "cell_type": "code",
   "execution_count": 3,
   "metadata": {},
   "outputs": [],
   "source": [
    "data = np.array([[i] for i in range(50)])\n",
    "targets = np.array([[i] for i in range(50)])"
   ]
  },
  {
   "cell_type": "code",
   "execution_count": 4,
   "metadata": {},
   "outputs": [],
   "source": [
    "data_gen = TimeseriesGenerator(data, targets,\n",
    "                               length=10, sampling_rate=2,\n",
    "                               batch_size=2)"
   ]
  },
  {
   "cell_type": "markdown",
   "metadata": {},
   "source": [
    "The parameters for the TimeseriesGenerator are:\n",
    "1. **data**: the timeseries that will be created into a 1-D array\n",
    "2. **targets**: the same time series that is passed to data, used for generating y-values\n",
    "3. **length**: essentially a \"look-back\" parameter that specifies how far it should look in the time series to generate the target\n",
    "4. **sampling_rate**: depends the frequency of sampling, based on which the values in-between will be skipped\n",
    "5. **batch_size**: essentially, think of it as the the number of rows that the generator outputs\n",
    "\n",
    "Further reading: https://keras.io/preprocessing/sequence/"
   ]
  },
  {
   "cell_type": "code",
   "execution_count": 5,
   "metadata": {},
   "outputs": [
    {
     "name": "stdout",
     "output_type": "stream",
     "text": [
      "20\n"
     ]
    }
   ],
   "source": [
    "assert len(data_gen) == 20\n",
    "print(len(data_gen))"
   ]
  },
  {
   "cell_type": "code",
   "execution_count": 6,
   "metadata": {},
   "outputs": [],
   "source": [
    "batch_0 = data_gen[0]\n",
    "x, y = batch_0"
   ]
  },
  {
   "cell_type": "code",
   "execution_count": 7,
   "metadata": {},
   "outputs": [
    {
     "name": "stdout",
     "output_type": "stream",
     "text": [
      "[[10]\n",
      " [11]]\n"
     ]
    }
   ],
   "source": [
    "print(y)"
   ]
  },
  {
   "cell_type": "code",
   "execution_count": 8,
   "metadata": {},
   "outputs": [
    {
     "name": "stdout",
     "output_type": "stream",
     "text": [
      "[[[0]\n",
      "  [2]\n",
      "  [4]\n",
      "  [6]\n",
      "  [8]]\n",
      "\n",
      " [[1]\n",
      "  [3]\n",
      "  [5]\n",
      "  [7]\n",
      "  [9]]]\n"
     ]
    }
   ],
   "source": [
    "print(x)"
   ]
  },
  {
   "cell_type": "markdown",
   "metadata": {},
   "source": [
    "As seen from the code above, TimeseriesGenerator, in this case, generated 2 values of y, since we specified the batch_size to be 2. Associated with the 2 y values, are 2 arrays in x. There are 5 values in each array. This is because even though we specified the length to be 10, we specified the sampling_rate to be 2.This result in 10/2 = 5 results."
   ]
  },
  {
   "cell_type": "code",
   "execution_count": 9,
   "metadata": {},
   "outputs": [],
   "source": [
    "assert np.array_equal(x,\n",
    "                      np.array([[[0], [2], [4], [6], [8]],\n",
    "                                [[1], [3], [5], [7], [9]]]))\n",
    "assert np.array_equal(y,\n",
    "                      np.array([[10], [11]]))"
   ]
  },
  {
   "cell_type": "markdown",
   "metadata": {},
   "source": [
    "#### Applying TimeseriesGenerator to the ASHRAE training data"
   ]
  },
  {
   "cell_type": "markdown",
   "metadata": {},
   "source": [
    "Once difference between the example above, and our situation is that we have multiple timeseries, for each building and each meter in the building. So, we will be required to modify the code a little bit.\n",
    "\n",
    "Below, we check how many meters exist in the dataset."
   ]
  },
  {
   "cell_type": "code",
   "execution_count": 10,
   "metadata": {},
   "outputs": [
    {
     "data": {
      "text/plain": [
       "2380"
      ]
     },
     "execution_count": 10,
     "metadata": {},
     "output_type": "execute_result"
    }
   ],
   "source": [
    "len(train[['building_id', 'meter']].drop_duplicates())"
   ]
  },
  {
   "cell_type": "markdown",
   "metadata": {},
   "source": [
    "Taking a subset of the data."
   ]
  },
  {
   "cell_type": "code",
   "execution_count": 11,
   "metadata": {},
   "outputs": [
    {
     "data": {
      "text/html": [
       "<div>\n",
       "<style scoped>\n",
       "    .dataframe tbody tr th:only-of-type {\n",
       "        vertical-align: middle;\n",
       "    }\n",
       "\n",
       "    .dataframe tbody tr th {\n",
       "        vertical-align: top;\n",
       "    }\n",
       "\n",
       "    .dataframe thead th {\n",
       "        text-align: right;\n",
       "    }\n",
       "</style>\n",
       "<table border=\"1\" class=\"dataframe\">\n",
       "  <thead>\n",
       "    <tr style=\"text-align: right;\">\n",
       "      <th></th>\n",
       "      <th>building_id</th>\n",
       "      <th>meter</th>\n",
       "      <th>meter_reading</th>\n",
       "    </tr>\n",
       "  </thead>\n",
       "  <tbody>\n",
       "    <tr>\n",
       "      <td>count</td>\n",
       "      <td>102372.000000</td>\n",
       "      <td>102372.000000</td>\n",
       "      <td>102372.000000</td>\n",
       "    </tr>\n",
       "    <tr>\n",
       "      <td>mean</td>\n",
       "      <td>4.996816</td>\n",
       "      <td>0.141953</td>\n",
       "      <td>456.649096</td>\n",
       "    </tr>\n",
       "    <tr>\n",
       "      <td>std</td>\n",
       "      <td>2.951760</td>\n",
       "      <td>0.349004</td>\n",
       "      <td>983.878076</td>\n",
       "    </tr>\n",
       "    <tr>\n",
       "      <td>min</td>\n",
       "      <td>0.000000</td>\n",
       "      <td>0.000000</td>\n",
       "      <td>0.000000</td>\n",
       "    </tr>\n",
       "    <tr>\n",
       "      <td>25%</td>\n",
       "      <td>2.000000</td>\n",
       "      <td>0.000000</td>\n",
       "      <td>0.000000</td>\n",
       "    </tr>\n",
       "    <tr>\n",
       "      <td>50%</td>\n",
       "      <td>5.000000</td>\n",
       "      <td>0.000000</td>\n",
       "      <td>80.269100</td>\n",
       "    </tr>\n",
       "    <tr>\n",
       "      <td>75%</td>\n",
       "      <td>7.000000</td>\n",
       "      <td>0.000000</td>\n",
       "      <td>425.576000</td>\n",
       "    </tr>\n",
       "    <tr>\n",
       "      <td>max</td>\n",
       "      <td>9.000000</td>\n",
       "      <td>1.000000</td>\n",
       "      <td>8442.070000</td>\n",
       "    </tr>\n",
       "  </tbody>\n",
       "</table>\n",
       "</div>"
      ],
      "text/plain": [
       "         building_id          meter  meter_reading\n",
       "count  102372.000000  102372.000000  102372.000000\n",
       "mean        4.996816       0.141953     456.649096\n",
       "std         2.951760       0.349004     983.878076\n",
       "min         0.000000       0.000000       0.000000\n",
       "25%         2.000000       0.000000       0.000000\n",
       "50%         5.000000       0.000000      80.269100\n",
       "75%         7.000000       0.000000     425.576000\n",
       "max         9.000000       1.000000    8442.070000"
      ]
     },
     "execution_count": 11,
     "metadata": {},
     "output_type": "execute_result"
    }
   ],
   "source": [
    "train_sub = train[train.building_id.isin(np.arange(0,10))]\n",
    "train_sub.describe()"
   ]
  },
  {
   "cell_type": "markdown",
   "metadata": {},
   "source": [
    "The code below has been taken from this stackoverflow answer with some modifications:\n",
    "https://stackoverflow.com/questions/55116638/use-keras-timeseriesgenerator-function-to-generate-squence-group-by-some-id/55118459#55118459\n",
    "\n",
    "The modification is basically that once we subset the data for building ID, it is then subset for meter type also.\n",
    "\n",
    "Further reading about modifying keras generator classes can be found below:\n",
    "https://stanford.edu/~shervine/blog/keras-how-to-generate-data-on-the-fly"
   ]
  },
  {
   "cell_type": "code",
   "execution_count": 13,
   "metadata": {},
   "outputs": [],
   "source": [
    "# https://stackoverflow.com/questions/55116638/use-keras-timeseriesgenerator-function-to-generate-squence-group-by-some-id/55118459#55118459\n",
    "# https://keras.io/preprocessing/sequence/\n",
    "class DataGenerator(keras.utils.Sequence):\n",
    "    def __init__(self, dt, length = 168, batch_size = 10):\n",
    "        self.tgs = list()\n",
    "        for i in range(dt['building_id'].min(),dt['building_id'].max()+1):\n",
    "            sub = dt.loc[dt['building_id'] == i, ['meter', 'meter_reading']]\n",
    "            for meter in sub['meter'].unique():\n",
    "                # subsetting sub for meter type\n",
    "                adf = sub.loc[sub['meter'] == meter, 'meter_reading']\n",
    "                self.tgs.append(TimeseriesGenerator(adf.values,adf.values,length,batch_size=batch_size))\n",
    "        self.len = sum([len(tg) for tg in self.tgs])\n",
    "        self.idx_i = list()\n",
    "        self.idx_j = list()\n",
    "\n",
    "        for i, tg in enumerate(self.tgs):\n",
    "            self.idx_i.extend(list(range(len(tg))))\n",
    "            self.idx_j.extend([i]*len(tg))    \n",
    "        #print ( self.idx_i,  self.idx_j)\n",
    "\n",
    "    def __len__(self):\n",
    "        return self.len\n",
    "\n",
    "    def __getitem__(self, index):\n",
    "        return self.tgs[self.idx_j[index]][self.idx_i[index]]\n",
    "\n"
   ]
  },
  {
   "cell_type": "markdown",
   "metadata": {},
   "source": [
    "Based on a manual check it was found that there were 12 unique meters in the train_sub dataset."
   ]
  },
  {
   "cell_type": "code",
   "execution_count": 14,
   "metadata": {},
   "outputs": [
    {
     "data": {
      "text/plain": [
       "12"
      ]
     },
     "execution_count": 14,
     "metadata": {},
     "output_type": "execute_result"
    }
   ],
   "source": [
    "assert len(train_sub[['building_id', 'meter']].drop_duplicates()) == 12\n",
    "df_category = len(train_sub[['building_id', 'meter']].drop_duplicates())\n",
    "df_category"
   ]
  },
  {
   "cell_type": "markdown",
   "metadata": {},
   "source": [
    "In our case we want to use 24*7 timesteps, representing 7 days and 24 hours. We can experiment with the batch size but using 3 here for a short example."
   ]
  },
  {
   "cell_type": "code",
   "execution_count": 18,
   "metadata": {},
   "outputs": [],
   "source": [
    "# Test\n",
    "length = 24*7\n",
    "batch_size = 3\n",
    "g = DataGenerator(train_sub,length, batch_size = batch_size)"
   ]
  },
  {
   "cell_type": "code",
   "execution_count": 19,
   "metadata": {},
   "outputs": [
    {
     "data": {
      "text/plain": [
       "102372"
      ]
     },
     "execution_count": 19,
     "metadata": {},
     "output_type": "execute_result"
    }
   ],
   "source": [
    "df_len = len(train_sub)\n",
    "df_len "
   ]
  },
  {
   "cell_type": "code",
   "execution_count": 21,
   "metadata": {},
   "outputs": [
    {
     "data": {
      "text/plain": [
       "33453"
      ]
     },
     "execution_count": 21,
     "metadata": {},
     "output_type": "execute_result"
    }
   ],
   "source": [
    "len(g)"
   ]
  },
  {
   "cell_type": "code",
   "execution_count": 22,
   "metadata": {},
   "outputs": [],
   "source": [
    "assert round((df_len - len(g)*batch_size + (length*df_category))/df_len) == 0"
   ]
  },
  {
   "cell_type": "markdown",
   "metadata": {},
   "source": [
    "Notice above, the length of the train_sub dataframe is 102,372. train_sub was the input to the DataGenerator. However, we end up length of 33,453 from the generator.\n",
    "The assert statement above checks if that makes sense. Essentially, if we multiple the length of g with it's batch size, we get all the rows except those where there is insufficient data to form an array of size 24*7. This will be the case when towrds the end of the time series for each meter, hence multiplying the length by number of meters."
   ]
  },
  {
   "cell_type": "code",
   "execution_count": 175,
   "metadata": {},
   "outputs": [],
   "source": [
    "x, y = g[-1000] # For example"
   ]
  },
  {
   "cell_type": "code",
   "execution_count": 177,
   "metadata": {},
   "outputs": [
    {
     "data": {
      "text/plain": [
       "array([928.628, 970.838, 928.628])"
      ]
     },
     "execution_count": 177,
     "metadata": {},
     "output_type": "execute_result"
    }
   ],
   "source": [
    "y"
   ]
  },
  {
   "cell_type": "code",
   "execution_count": 176,
   "metadata": {},
   "outputs": [
    {
     "data": {
      "text/plain": [
       "array([[1013.05 ,  970.838,  970.838,  970.838,  928.628, 1224.1  ,\n",
       "         970.838, 1519.57 , 1899.47 , 1688.41 , 1519.57 , 1519.57 ,\n",
       "        1435.15 , 1561.78 , 1308.52 , 1181.89 , 1055.26 , 1139.68 ,\n",
       "         759.786,  886.418, 1224.1  , 1097.47 , 1139.68 , 1013.05 ,\n",
       "         759.786,  970.838,  928.628,  886.418,  928.628, 1139.68 ,\n",
       "        1308.52 , 1350.73 , 1435.15 , 1519.57 , 1435.15 , 1392.94 ,\n",
       "        1392.94 , 1477.36 , 1477.36 , 1435.15 , 1139.68 , 1097.47 ,\n",
       "         844.207, 1013.05 ,  759.786, 1055.26 , 1013.05 ,  970.838,\n",
       "         844.207,  886.418,  717.576,  886.418, 1139.68 , 1181.89 ,\n",
       "        1139.68 , 1097.47 , 1350.73 , 1392.94 , 1350.73 ,  717.576,\n",
       "        1519.57 , 1392.94 , 1266.31 , 1435.15 , 1308.52 , 1139.68 ,\n",
       "         844.207, 1097.47 , 1055.26 ,  970.838, 1055.26 ,  970.838,\n",
       "         928.628,  801.997, 1055.26 ,  844.207, 1013.05 , 1139.68 ,\n",
       "        1055.26 , 1055.26 , 1055.26 , 1477.36 , 1435.15 , 1308.52 ,\n",
       "        1224.1  , 1308.52 , 1308.52 , 1477.36 , 1435.15 , 1055.26 ,\n",
       "         759.786, 1013.05 , 1266.31 , 1181.89 , 1013.05 , 1055.26 ,\n",
       "         928.628,  928.628,  801.997, 1013.05 , 1224.1  , 1013.05 ,\n",
       "        1308.52 , 1308.52 , 1646.2  , 1477.36 , 1435.15 , 1308.52 ,\n",
       "        1477.36 , 1646.2  , 1561.78 , 1477.36 ,  970.838,  886.418,\n",
       "         801.997,  717.576, 1392.94 , 1266.31 , 1139.68 ,  970.838,\n",
       "        1013.05 , 1013.05 ,  928.628,  928.628, 1055.26 , 1435.15 ,\n",
       "        1350.73 , 1561.78 , 1519.57 , 1561.78 , 1392.94 , 1519.57 ,\n",
       "        1688.41 , 1561.78 , 1350.73 , 1519.57 , 1181.89 , 1097.47 ,\n",
       "         211.052,    0.   ,  590.945,  548.735,  759.786, 1561.78 ,\n",
       "        1392.94 , 1139.68 , 1097.47 , 1097.47 , 1013.05 , 1224.1  ,\n",
       "        1392.94 , 1392.94 , 1139.68 , 1435.15 , 1392.94 , 1350.73 ,\n",
       "        1392.94 , 1224.1  , 1519.57 , 1392.94 , 1266.31 , 1181.89 ,\n",
       "         759.786, 1055.26 , 1139.68 ,  970.838,  886.418,  886.418],\n",
       "       [ 970.838,  970.838,  970.838,  928.628, 1224.1  ,  970.838,\n",
       "        1519.57 , 1899.47 , 1688.41 , 1519.57 , 1519.57 , 1435.15 ,\n",
       "        1561.78 , 1308.52 , 1181.89 , 1055.26 , 1139.68 ,  759.786,\n",
       "         886.418, 1224.1  , 1097.47 , 1139.68 , 1013.05 ,  759.786,\n",
       "         970.838,  928.628,  886.418,  928.628, 1139.68 , 1308.52 ,\n",
       "        1350.73 , 1435.15 , 1519.57 , 1435.15 , 1392.94 , 1392.94 ,\n",
       "        1477.36 , 1477.36 , 1435.15 , 1139.68 , 1097.47 ,  844.207,\n",
       "        1013.05 ,  759.786, 1055.26 , 1013.05 ,  970.838,  844.207,\n",
       "         886.418,  717.576,  886.418, 1139.68 , 1181.89 , 1139.68 ,\n",
       "        1097.47 , 1350.73 , 1392.94 , 1350.73 ,  717.576, 1519.57 ,\n",
       "        1392.94 , 1266.31 , 1435.15 , 1308.52 , 1139.68 ,  844.207,\n",
       "        1097.47 , 1055.26 ,  970.838, 1055.26 ,  970.838,  928.628,\n",
       "         801.997, 1055.26 ,  844.207, 1013.05 , 1139.68 , 1055.26 ,\n",
       "        1055.26 , 1055.26 , 1477.36 , 1435.15 , 1308.52 , 1224.1  ,\n",
       "        1308.52 , 1308.52 , 1477.36 , 1435.15 , 1055.26 ,  759.786,\n",
       "        1013.05 , 1266.31 , 1181.89 , 1013.05 , 1055.26 ,  928.628,\n",
       "         928.628,  801.997, 1013.05 , 1224.1  , 1013.05 , 1308.52 ,\n",
       "        1308.52 , 1646.2  , 1477.36 , 1435.15 , 1308.52 , 1477.36 ,\n",
       "        1646.2  , 1561.78 , 1477.36 ,  970.838,  886.418,  801.997,\n",
       "         717.576, 1392.94 , 1266.31 , 1139.68 ,  970.838, 1013.05 ,\n",
       "        1013.05 ,  928.628,  928.628, 1055.26 , 1435.15 , 1350.73 ,\n",
       "        1561.78 , 1519.57 , 1561.78 , 1392.94 , 1519.57 , 1688.41 ,\n",
       "        1561.78 , 1350.73 , 1519.57 , 1181.89 , 1097.47 ,  211.052,\n",
       "           0.   ,  590.945,  548.735,  759.786, 1561.78 , 1392.94 ,\n",
       "        1139.68 , 1097.47 , 1097.47 , 1013.05 , 1224.1  , 1392.94 ,\n",
       "        1392.94 , 1139.68 , 1435.15 , 1392.94 , 1350.73 , 1392.94 ,\n",
       "        1224.1  , 1519.57 , 1392.94 , 1266.31 , 1181.89 ,  759.786,\n",
       "        1055.26 , 1139.68 ,  970.838,  886.418,  886.418,  928.628],\n",
       "       [ 970.838,  970.838,  928.628, 1224.1  ,  970.838, 1519.57 ,\n",
       "        1899.47 , 1688.41 , 1519.57 , 1519.57 , 1435.15 , 1561.78 ,\n",
       "        1308.52 , 1181.89 , 1055.26 , 1139.68 ,  759.786,  886.418,\n",
       "        1224.1  , 1097.47 , 1139.68 , 1013.05 ,  759.786,  970.838,\n",
       "         928.628,  886.418,  928.628, 1139.68 , 1308.52 , 1350.73 ,\n",
       "        1435.15 , 1519.57 , 1435.15 , 1392.94 , 1392.94 , 1477.36 ,\n",
       "        1477.36 , 1435.15 , 1139.68 , 1097.47 ,  844.207, 1013.05 ,\n",
       "         759.786, 1055.26 , 1013.05 ,  970.838,  844.207,  886.418,\n",
       "         717.576,  886.418, 1139.68 , 1181.89 , 1139.68 , 1097.47 ,\n",
       "        1350.73 , 1392.94 , 1350.73 ,  717.576, 1519.57 , 1392.94 ,\n",
       "        1266.31 , 1435.15 , 1308.52 , 1139.68 ,  844.207, 1097.47 ,\n",
       "        1055.26 ,  970.838, 1055.26 ,  970.838,  928.628,  801.997,\n",
       "        1055.26 ,  844.207, 1013.05 , 1139.68 , 1055.26 , 1055.26 ,\n",
       "        1055.26 , 1477.36 , 1435.15 , 1308.52 , 1224.1  , 1308.52 ,\n",
       "        1308.52 , 1477.36 , 1435.15 , 1055.26 ,  759.786, 1013.05 ,\n",
       "        1266.31 , 1181.89 , 1013.05 , 1055.26 ,  928.628,  928.628,\n",
       "         801.997, 1013.05 , 1224.1  , 1013.05 , 1308.52 , 1308.52 ,\n",
       "        1646.2  , 1477.36 , 1435.15 , 1308.52 , 1477.36 , 1646.2  ,\n",
       "        1561.78 , 1477.36 ,  970.838,  886.418,  801.997,  717.576,\n",
       "        1392.94 , 1266.31 , 1139.68 ,  970.838, 1013.05 , 1013.05 ,\n",
       "         928.628,  928.628, 1055.26 , 1435.15 , 1350.73 , 1561.78 ,\n",
       "        1519.57 , 1561.78 , 1392.94 , 1519.57 , 1688.41 , 1561.78 ,\n",
       "        1350.73 , 1519.57 , 1181.89 , 1097.47 ,  211.052,    0.   ,\n",
       "         590.945,  548.735,  759.786, 1561.78 , 1392.94 , 1139.68 ,\n",
       "        1097.47 , 1097.47 , 1013.05 , 1224.1  , 1392.94 , 1392.94 ,\n",
       "        1139.68 , 1435.15 , 1392.94 , 1350.73 , 1392.94 , 1224.1  ,\n",
       "        1519.57 , 1392.94 , 1266.31 , 1181.89 ,  759.786, 1055.26 ,\n",
       "        1139.68 ,  970.838,  886.418,  886.418,  928.628,  970.838]])"
      ]
     },
     "execution_count": 176,
     "metadata": {},
     "output_type": "execute_result"
    }
   ],
   "source": [
    "x"
   ]
  },
  {
   "cell_type": "markdown",
   "metadata": {},
   "source": [
    "Similar to our first example, we end up with 3 y values. And x contains 3 arrays of length 24*7."
   ]
  }
 ],
 "metadata": {
  "kernelspec": {
   "display_name": "Python 3",
   "language": "python",
   "name": "python3"
  },
  "language_info": {
   "codemirror_mode": {
    "name": "ipython",
    "version": 3
   },
   "file_extension": ".py",
   "mimetype": "text/x-python",
   "name": "python",
   "nbconvert_exporter": "python",
   "pygments_lexer": "ipython3",
   "version": "3.5.3"
  }
 },
 "nbformat": 4,
 "nbformat_minor": 4
}
