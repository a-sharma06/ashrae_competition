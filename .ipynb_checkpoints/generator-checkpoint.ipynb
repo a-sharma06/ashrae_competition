{
 "cells": [
  {
   "cell_type": "code",
   "execution_count": 78,
   "metadata": {},
   "outputs": [],
   "source": [
    "import numpy as np\n",
    "import pandas as pd\n",
    "\n",
    "import keras\n",
    "from keras.preprocessing.sequence import TimeseriesGenerator\n",
    "\n",
    "import matplotlib.pyplot as plt"
   ]
  },
  {
   "cell_type": "code",
   "execution_count": 10,
   "metadata": {},
   "outputs": [],
   "source": [
    "dim=(2,2,2)"
   ]
  },
  {
   "cell_type": "code",
   "execution_count": 11,
   "metadata": {},
   "outputs": [],
   "source": [
    "batch_size = 1\n",
    "n_channels =1"
   ]
  },
  {
   "cell_type": "code",
   "execution_count": 5,
   "metadata": {},
   "outputs": [],
   "source": [
    "train = pd.read_csv(\"gs://123test_bucket/train.csv\")"
   ]
  },
  {
   "cell_type": "code",
   "execution_count": 12,
   "metadata": {},
   "outputs": [
    {
     "data": {
      "text/plain": [
       "array([[[[[0.00000000e+000],\n",
       "          [4.67846830e-310]],\n",
       "\n",
       "         [[4.67846830e-310],\n",
       "          [4.67846830e-310]]],\n",
       "\n",
       "\n",
       "        [[[4.67846830e-310],\n",
       "          [6.93022916e-310]],\n",
       "\n",
       "         [[6.93022916e-310],\n",
       "          [6.93022916e-310]]]]])"
      ]
     },
     "execution_count": 12,
     "metadata": {},
     "output_type": "execute_result"
    }
   ],
   "source": [
    "np.empty((batch_size, *dim, n_channels))"
   ]
  },
  {
   "cell_type": "code",
   "execution_count": 30,
   "metadata": {},
   "outputs": [],
   "source": [
    "data = np.array([[i] for i in range(50)])\n",
    "targets = np.array([[i] for i in range(50)])\n"
   ]
  },
  {
   "cell_type": "code",
   "execution_count": 119,
   "metadata": {},
   "outputs": [
    {
     "data": {
      "text/plain": [
       "50"
      ]
     },
     "execution_count": 119,
     "metadata": {},
     "output_type": "execute_result"
    }
   ],
   "source": [
    "length = len(data) - 10"
   ]
  },
  {
   "cell_type": "code",
   "execution_count": 126,
   "metadata": {},
   "outputs": [],
   "source": [
    "data_gen = TimeseriesGenerator(data, targets,\n",
    "                               length=4, sampling_rate=1,\n",
    "                               batch_size=3)"
   ]
  },
  {
   "cell_type": "code",
   "execution_count": 133,
   "metadata": {},
   "outputs": [
    {
     "name": "stdout",
     "output_type": "stream",
     "text": [
      "16\n"
     ]
    }
   ],
   "source": [
    "#assert len(data_gen) == 20\n",
    "print(len(data_gen))"
   ]
  },
  {
   "cell_type": "code",
   "execution_count": 131,
   "metadata": {},
   "outputs": [],
   "source": [
    "batch_0 = data_gen[0]\n",
    "x, y = batch_0"
   ]
  },
  {
   "cell_type": "code",
   "execution_count": 135,
   "metadata": {},
   "outputs": [
    {
     "data": {
      "text/plain": [
       "48"
      ]
     },
     "execution_count": 135,
     "metadata": {},
     "output_type": "execute_result"
    }
   ],
   "source": [
    "len(x) * len(data_gen)"
   ]
  },
  {
   "cell_type": "code",
   "execution_count": 39,
   "metadata": {},
   "outputs": [],
   "source": [
    "assert np.array_equal(x,\n",
    "                      np.array([[[0], [2], [4], [6], [8]],\n",
    "                                [[1], [3], [5], [7], [9]]]))\n",
    "assert np.array_equal(y,\n",
    "                      np.array([[10], [11]]))"
   ]
  },
  {
   "cell_type": "code",
   "execution_count": 114,
   "metadata": {},
   "outputs": [
    {
     "data": {
      "text/plain": [
       "2380"
      ]
     },
     "execution_count": 114,
     "metadata": {},
     "output_type": "execute_result"
    }
   ],
   "source": [
    "len(train[['building_id', 'meter']].drop_duplicates())"
   ]
  },
  {
   "cell_type": "code",
   "execution_count": 74,
   "metadata": {},
   "outputs": [],
   "source": [
    "adf = train.loc[train['building_id'] == 1, 'meter_reading']\n",
    "\n",
    "length = 168\n",
    "batch_size = len(adf) - length\n",
    "\n",
    "data_gen = TimeseriesGenerator(adf.values,adf.values,length=168,batch_size = batch_size)"
   ]
  },
  {
   "cell_type": "code",
   "execution_count": 75,
   "metadata": {},
   "outputs": [],
   "source": [
    "batch_0 = data_gen[0]\n",
    "x, y = batch_0"
   ]
  },
  {
   "cell_type": "code",
   "execution_count": 86,
   "metadata": {},
   "outputs": [],
   "source": [
    "train_sub = train[train.building_id.isin(np.arange(0,10))]\n",
    "train_sub.describe()"
   ]
  },
  {
   "cell_type": "code",
   "execution_count": 137,
   "metadata": {},
   "outputs": [],
   "source": [
    "# https://stackoverflow.com/questions/55116638/use-keras-timeseriesgenerator-function-to-generate-squence-group-by-some-id/55118459#55118459\n",
    "# https://keras.io/preprocessing/sequence/\n",
    "class DataGenerator(keras.utils.Sequence):\n",
    "    def __init__(self, dt, length = 168, batch_size = batch_size):\n",
    "        # length represents look back, i.e. how many time steps prior we need.\n",
    "        self.tgs = list()\n",
    "        for i in range(dt['building_id'].min(),dt['building_id'].max()+1):\n",
    "            sub = dt.loc[dt['building_id'] == i, ['meter', 'meter_reading']]\n",
    "            for meter in sub['meter'].unique():\n",
    "                adf = sub.loc[sub['meter'] == meter, 'meter_reading']\n",
    "                # reformatted time series needs to be generated in batches\n",
    "                self.tgs.append(TimeseriesGenerator(adf.values,adf.values,length,batch_size=batch_size))\n",
    "        self.len = sum([len(tg) for tg in self.tgs])\n",
    "        self.idx_i = list()\n",
    "        self.idx_j = list()\n",
    "\n",
    "        for i, tg in enumerate(self.tgs):\n",
    "            self.idx_i.extend(list(range(len(tg))))\n",
    "            self.idx_j.extend([i]*len(tg))    \n",
    "        #print ( self.idx_i,  self.idx_j)\n",
    "\n",
    "    def __len__(self):\n",
    "        return self.len\n",
    "\n",
    "    def __getitem__(self, index):\n",
    "        return self.tgs[self.idx_j[index]][self.idx_i[index]]\n",
    "\n"
   ]
  },
  {
   "cell_type": "code",
   "execution_count": 160,
   "metadata": {},
   "outputs": [
    {
     "data": {
      "text/plain": [
       "12"
      ]
     },
     "execution_count": 160,
     "metadata": {},
     "output_type": "execute_result"
    }
   ],
   "source": [
    "assert len(train_sub[['building_id', 'meter']].drop_duplicates()) == 12\n",
    "df_category = len(train_sub[['building_id', 'meter']].drop_duplicates())\n",
    "df_category"
   ]
  },
  {
   "cell_type": "code",
   "execution_count": 142,
   "metadata": {},
   "outputs": [],
   "source": [
    "# Test\n",
    "length = 168\n",
    "batch_size = 3\n",
    "g = DataGenerator(train_sub,length, batch_size = batch_size)"
   ]
  },
  {
   "cell_type": "code",
   "execution_count": 163,
   "metadata": {},
   "outputs": [
    {
     "data": {
      "text/plain": [
       "102372"
      ]
     },
     "execution_count": 163,
     "metadata": {},
     "output_type": "execute_result"
    }
   ],
   "source": [
    "df_len = len(train_sub)\n",
    "df_len "
   ]
  },
  {
   "cell_type": "code",
   "execution_count": 167,
   "metadata": {},
   "outputs": [],
   "source": [
    "assert round((df_len - len(g)*batch_size + (length*df_category))/df_len) == 0"
   ]
  },
  {
   "cell_type": "code",
   "execution_count": 175,
   "metadata": {},
   "outputs": [],
   "source": [
    "x, y = g[-1000] # For example"
   ]
  },
  {
   "cell_type": "code",
   "execution_count": 177,
   "metadata": {},
   "outputs": [
    {
     "data": {
      "text/plain": [
       "array([928.628, 970.838, 928.628])"
      ]
     },
     "execution_count": 177,
     "metadata": {},
     "output_type": "execute_result"
    }
   ],
   "source": [
    "y"
   ]
  },
  {
   "cell_type": "code",
   "execution_count": 176,
   "metadata": {},
   "outputs": [
    {
     "data": {
      "text/plain": [
       "array([[1013.05 ,  970.838,  970.838,  970.838,  928.628, 1224.1  ,\n",
       "         970.838, 1519.57 , 1899.47 , 1688.41 , 1519.57 , 1519.57 ,\n",
       "        1435.15 , 1561.78 , 1308.52 , 1181.89 , 1055.26 , 1139.68 ,\n",
       "         759.786,  886.418, 1224.1  , 1097.47 , 1139.68 , 1013.05 ,\n",
       "         759.786,  970.838,  928.628,  886.418,  928.628, 1139.68 ,\n",
       "        1308.52 , 1350.73 , 1435.15 , 1519.57 , 1435.15 , 1392.94 ,\n",
       "        1392.94 , 1477.36 , 1477.36 , 1435.15 , 1139.68 , 1097.47 ,\n",
       "         844.207, 1013.05 ,  759.786, 1055.26 , 1013.05 ,  970.838,\n",
       "         844.207,  886.418,  717.576,  886.418, 1139.68 , 1181.89 ,\n",
       "        1139.68 , 1097.47 , 1350.73 , 1392.94 , 1350.73 ,  717.576,\n",
       "        1519.57 , 1392.94 , 1266.31 , 1435.15 , 1308.52 , 1139.68 ,\n",
       "         844.207, 1097.47 , 1055.26 ,  970.838, 1055.26 ,  970.838,\n",
       "         928.628,  801.997, 1055.26 ,  844.207, 1013.05 , 1139.68 ,\n",
       "        1055.26 , 1055.26 , 1055.26 , 1477.36 , 1435.15 , 1308.52 ,\n",
       "        1224.1  , 1308.52 , 1308.52 , 1477.36 , 1435.15 , 1055.26 ,\n",
       "         759.786, 1013.05 , 1266.31 , 1181.89 , 1013.05 , 1055.26 ,\n",
       "         928.628,  928.628,  801.997, 1013.05 , 1224.1  , 1013.05 ,\n",
       "        1308.52 , 1308.52 , 1646.2  , 1477.36 , 1435.15 , 1308.52 ,\n",
       "        1477.36 , 1646.2  , 1561.78 , 1477.36 ,  970.838,  886.418,\n",
       "         801.997,  717.576, 1392.94 , 1266.31 , 1139.68 ,  970.838,\n",
       "        1013.05 , 1013.05 ,  928.628,  928.628, 1055.26 , 1435.15 ,\n",
       "        1350.73 , 1561.78 , 1519.57 , 1561.78 , 1392.94 , 1519.57 ,\n",
       "        1688.41 , 1561.78 , 1350.73 , 1519.57 , 1181.89 , 1097.47 ,\n",
       "         211.052,    0.   ,  590.945,  548.735,  759.786, 1561.78 ,\n",
       "        1392.94 , 1139.68 , 1097.47 , 1097.47 , 1013.05 , 1224.1  ,\n",
       "        1392.94 , 1392.94 , 1139.68 , 1435.15 , 1392.94 , 1350.73 ,\n",
       "        1392.94 , 1224.1  , 1519.57 , 1392.94 , 1266.31 , 1181.89 ,\n",
       "         759.786, 1055.26 , 1139.68 ,  970.838,  886.418,  886.418],\n",
       "       [ 970.838,  970.838,  970.838,  928.628, 1224.1  ,  970.838,\n",
       "        1519.57 , 1899.47 , 1688.41 , 1519.57 , 1519.57 , 1435.15 ,\n",
       "        1561.78 , 1308.52 , 1181.89 , 1055.26 , 1139.68 ,  759.786,\n",
       "         886.418, 1224.1  , 1097.47 , 1139.68 , 1013.05 ,  759.786,\n",
       "         970.838,  928.628,  886.418,  928.628, 1139.68 , 1308.52 ,\n",
       "        1350.73 , 1435.15 , 1519.57 , 1435.15 , 1392.94 , 1392.94 ,\n",
       "        1477.36 , 1477.36 , 1435.15 , 1139.68 , 1097.47 ,  844.207,\n",
       "        1013.05 ,  759.786, 1055.26 , 1013.05 ,  970.838,  844.207,\n",
       "         886.418,  717.576,  886.418, 1139.68 , 1181.89 , 1139.68 ,\n",
       "        1097.47 , 1350.73 , 1392.94 , 1350.73 ,  717.576, 1519.57 ,\n",
       "        1392.94 , 1266.31 , 1435.15 , 1308.52 , 1139.68 ,  844.207,\n",
       "        1097.47 , 1055.26 ,  970.838, 1055.26 ,  970.838,  928.628,\n",
       "         801.997, 1055.26 ,  844.207, 1013.05 , 1139.68 , 1055.26 ,\n",
       "        1055.26 , 1055.26 , 1477.36 , 1435.15 , 1308.52 , 1224.1  ,\n",
       "        1308.52 , 1308.52 , 1477.36 , 1435.15 , 1055.26 ,  759.786,\n",
       "        1013.05 , 1266.31 , 1181.89 , 1013.05 , 1055.26 ,  928.628,\n",
       "         928.628,  801.997, 1013.05 , 1224.1  , 1013.05 , 1308.52 ,\n",
       "        1308.52 , 1646.2  , 1477.36 , 1435.15 , 1308.52 , 1477.36 ,\n",
       "        1646.2  , 1561.78 , 1477.36 ,  970.838,  886.418,  801.997,\n",
       "         717.576, 1392.94 , 1266.31 , 1139.68 ,  970.838, 1013.05 ,\n",
       "        1013.05 ,  928.628,  928.628, 1055.26 , 1435.15 , 1350.73 ,\n",
       "        1561.78 , 1519.57 , 1561.78 , 1392.94 , 1519.57 , 1688.41 ,\n",
       "        1561.78 , 1350.73 , 1519.57 , 1181.89 , 1097.47 ,  211.052,\n",
       "           0.   ,  590.945,  548.735,  759.786, 1561.78 , 1392.94 ,\n",
       "        1139.68 , 1097.47 , 1097.47 , 1013.05 , 1224.1  , 1392.94 ,\n",
       "        1392.94 , 1139.68 , 1435.15 , 1392.94 , 1350.73 , 1392.94 ,\n",
       "        1224.1  , 1519.57 , 1392.94 , 1266.31 , 1181.89 ,  759.786,\n",
       "        1055.26 , 1139.68 ,  970.838,  886.418,  886.418,  928.628],\n",
       "       [ 970.838,  970.838,  928.628, 1224.1  ,  970.838, 1519.57 ,\n",
       "        1899.47 , 1688.41 , 1519.57 , 1519.57 , 1435.15 , 1561.78 ,\n",
       "        1308.52 , 1181.89 , 1055.26 , 1139.68 ,  759.786,  886.418,\n",
       "        1224.1  , 1097.47 , 1139.68 , 1013.05 ,  759.786,  970.838,\n",
       "         928.628,  886.418,  928.628, 1139.68 , 1308.52 , 1350.73 ,\n",
       "        1435.15 , 1519.57 , 1435.15 , 1392.94 , 1392.94 , 1477.36 ,\n",
       "        1477.36 , 1435.15 , 1139.68 , 1097.47 ,  844.207, 1013.05 ,\n",
       "         759.786, 1055.26 , 1013.05 ,  970.838,  844.207,  886.418,\n",
       "         717.576,  886.418, 1139.68 , 1181.89 , 1139.68 , 1097.47 ,\n",
       "        1350.73 , 1392.94 , 1350.73 ,  717.576, 1519.57 , 1392.94 ,\n",
       "        1266.31 , 1435.15 , 1308.52 , 1139.68 ,  844.207, 1097.47 ,\n",
       "        1055.26 ,  970.838, 1055.26 ,  970.838,  928.628,  801.997,\n",
       "        1055.26 ,  844.207, 1013.05 , 1139.68 , 1055.26 , 1055.26 ,\n",
       "        1055.26 , 1477.36 , 1435.15 , 1308.52 , 1224.1  , 1308.52 ,\n",
       "        1308.52 , 1477.36 , 1435.15 , 1055.26 ,  759.786, 1013.05 ,\n",
       "        1266.31 , 1181.89 , 1013.05 , 1055.26 ,  928.628,  928.628,\n",
       "         801.997, 1013.05 , 1224.1  , 1013.05 , 1308.52 , 1308.52 ,\n",
       "        1646.2  , 1477.36 , 1435.15 , 1308.52 , 1477.36 , 1646.2  ,\n",
       "        1561.78 , 1477.36 ,  970.838,  886.418,  801.997,  717.576,\n",
       "        1392.94 , 1266.31 , 1139.68 ,  970.838, 1013.05 , 1013.05 ,\n",
       "         928.628,  928.628, 1055.26 , 1435.15 , 1350.73 , 1561.78 ,\n",
       "        1519.57 , 1561.78 , 1392.94 , 1519.57 , 1688.41 , 1561.78 ,\n",
       "        1350.73 , 1519.57 , 1181.89 , 1097.47 ,  211.052,    0.   ,\n",
       "         590.945,  548.735,  759.786, 1561.78 , 1392.94 , 1139.68 ,\n",
       "        1097.47 , 1097.47 , 1013.05 , 1224.1  , 1392.94 , 1392.94 ,\n",
       "        1139.68 , 1435.15 , 1392.94 , 1350.73 , 1392.94 , 1224.1  ,\n",
       "        1519.57 , 1392.94 , 1266.31 , 1181.89 ,  759.786, 1055.26 ,\n",
       "        1139.68 ,  970.838,  886.418,  886.418,  928.628,  970.838]])"
      ]
     },
     "execution_count": 176,
     "metadata": {},
     "output_type": "execute_result"
    }
   ],
   "source": [
    "x"
   ]
  },
  {
   "cell_type": "code",
   "execution_count": null,
   "metadata": {},
   "outputs": [],
   "source": []
  }
 ],
 "metadata": {
  "kernelspec": {
   "display_name": "Python 3",
   "language": "python",
   "name": "python3"
  },
  "language_info": {
   "codemirror_mode": {
    "name": "ipython",
    "version": 3
   },
   "file_extension": ".py",
   "mimetype": "text/x-python",
   "name": "python",
   "nbconvert_exporter": "python",
   "pygments_lexer": "ipython3",
   "version": "3.5.3"
  }
 },
 "nbformat": 4,
 "nbformat_minor": 4
}
