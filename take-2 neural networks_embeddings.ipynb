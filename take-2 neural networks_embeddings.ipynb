{
 "cells": [
  {
   "cell_type": "code",
   "execution_count": 1,
   "metadata": {},
   "outputs": [],
   "source": [
    "import numpy as np\n",
    "import pandas as pd\n",
    "import matplotlib.pyplot as plt\n",
    "import pyarrow\n",
    "import crcmod\n",
    "\n",
    "#try pip install --user --upgrade scikit-learn==0.20\n",
    "import sklearn\n",
    "from sklearn.preprocessing import OrdinalEncoder, MinMaxScaler\n",
    "\n",
    "#import dask.dataframe as dd\n",
    "\n",
    "from datetime import datetime"
   ]
  },
  {
   "cell_type": "code",
   "execution_count": 2,
   "metadata": {},
   "outputs": [
    {
     "name": "stderr",
     "output_type": "stream",
     "text": [
      "Using TensorFlow backend.\n"
     ]
    }
   ],
   "source": [
    "import keras \n",
    "\n",
    "from keras.preprocessing import sequence\n",
    "from keras.preprocessing.sequence import TimeseriesGenerator\n",
    "from keras.models import Sequential, Model\n",
    "from keras.layers import Input, Dense, Dropout, Activation, LeakyReLU\n",
    "from keras.layers import Embedding\n",
    "from keras.layers import Concatenate, Flatten, Reshape, Lambda\n",
    "from keras.layers import Conv1D, GlobalMaxPooling1D, MaxPooling1D, LSTM\n",
    "from keras.utils import plot_model\n",
    "from keras import backend as K\n",
    "\n",
    "from keras.datasets import imdb"
   ]
  },
  {
   "cell_type": "code",
   "execution_count": 3,
   "metadata": {},
   "outputs": [],
   "source": [
    "#K.tensorflow_backend._get_available_gpus()"
   ]
  },
  {
   "cell_type": "code",
   "execution_count": 7,
   "metadata": {},
   "outputs": [
    {
     "name": "stderr",
     "output_type": "stream",
     "text": [
      "/usr/local/lib/python3.5/dist-packages/numpy/lib/arraysetops.py:568: FutureWarning: elementwise comparison failed; returning scalar instead, but in the future will perform elementwise comparison\n",
      "  mask |= (ar1 == a)\n"
     ]
    },
    {
     "data": {
      "text/html": [
       "<div>\n",
       "<style scoped>\n",
       "    .dataframe tbody tr th:only-of-type {\n",
       "        vertical-align: middle;\n",
       "    }\n",
       "\n",
       "    .dataframe tbody tr th {\n",
       "        vertical-align: top;\n",
       "    }\n",
       "\n",
       "    .dataframe thead th {\n",
       "        text-align: right;\n",
       "    }\n",
       "</style>\n",
       "<table border=\"1\" class=\"dataframe\">\n",
       "  <thead>\n",
       "    <tr style=\"text-align: right;\">\n",
       "      <th></th>\n",
       "      <th>building_id</th>\n",
       "      <th>meter</th>\n",
       "      <th>meter_reading</th>\n",
       "      <th>timestamp</th>\n",
       "    </tr>\n",
       "  </thead>\n",
       "  <tbody>\n",
       "    <tr>\n",
       "      <th>0</th>\n",
       "      <td>0</td>\n",
       "      <td>0.0</td>\n",
       "      <td>0.0</td>\n",
       "      <td>2016-01-01 00:00:00</td>\n",
       "    </tr>\n",
       "    <tr>\n",
       "      <th>1</th>\n",
       "      <td>1</td>\n",
       "      <td>0.0</td>\n",
       "      <td>0.0</td>\n",
       "      <td>2016-01-01 00:00:00</td>\n",
       "    </tr>\n",
       "    <tr>\n",
       "      <th>2</th>\n",
       "      <td>2</td>\n",
       "      <td>0.0</td>\n",
       "      <td>0.0</td>\n",
       "      <td>2016-01-01 00:00:00</td>\n",
       "    </tr>\n",
       "    <tr>\n",
       "      <th>3</th>\n",
       "      <td>3</td>\n",
       "      <td>0.0</td>\n",
       "      <td>0.0</td>\n",
       "      <td>2016-01-01 00:00:00</td>\n",
       "    </tr>\n",
       "    <tr>\n",
       "      <th>4</th>\n",
       "      <td>4</td>\n",
       "      <td>0.0</td>\n",
       "      <td>0.0</td>\n",
       "      <td>2016-01-01 00:00:00</td>\n",
       "    </tr>\n",
       "  </tbody>\n",
       "</table>\n",
       "</div>"
      ],
      "text/plain": [
       "   building_id  meter  meter_reading            timestamp\n",
       "0            0    0.0            0.0  2016-01-01 00:00:00\n",
       "1            1    0.0            0.0  2016-01-01 00:00:00\n",
       "2            2    0.0            0.0  2016-01-01 00:00:00\n",
       "3            3    0.0            0.0  2016-01-01 00:00:00\n",
       "4            4    0.0            0.0  2016-01-01 00:00:00"
      ]
     },
     "execution_count": 7,
     "metadata": {},
     "output_type": "execute_result"
    }
   ],
   "source": [
    "#Todo: \n",
    "# Correct site 0 values: https://www.kaggle.com/c/ashrae-energy-prediction/discussion/119261\n",
    "# Leak: https://www.kaggle.com/yamsam/ashrae-leak-data-station\n",
    "# https://www.kaggle.com/patrick0302/locate-cities-according-weather-temperature\n",
    "# https://www.kaggle.com/datadugong/locate-better-cities-by-weather-temp-fill-nans\n",
    "# https://www.kaggle.com/jimeno/ashrae-weather-features-are-not-in-local-time\n",
    "site_dict ={0:'UCF-Orlando',\n",
    "           1:'UCL-London',\n",
    "           2:'ASU-Tempe',\n",
    "            3:'DC',\n",
    "           4:'UCB-Berkeley',\n",
    "            5:'London/Birmingham/Philly',\n",
    "            6:'DC',\n",
    "            7:'Ottawa',\n",
    "            8:'UCF-Orlando',\n",
    "            9:'San Antonio',\n",
    "            10:'Salt Lake City',\n",
    "            11:'Ottawa',\n",
    "            12:'Dublin',\n",
    "            13:'Minneapolis',\n",
    "            14:'Philadelphia',\n",
    "           15:'Cornell',\n",
    "           }\n",
    "\n",
    "#pip install --user feather-format\n",
    "leak_df = pd.read_csv(\"gs://inputdata23/leak.csv\", index_col=0)\n",
    "leak_df.head()"
   ]
  },
  {
   "cell_type": "code",
   "execution_count": 5,
   "metadata": {},
   "outputs": [
    {
     "name": "stdout",
     "output_type": "stream",
     "text": [
      "0\n"
     ]
    }
   ],
   "source": [
    "leak_df.fillna(0, inplace=True)\n",
    "leak_df.loc[leak_df.meter_reading < 0, 'meter_reading'] = 0\n",
    "leak_df = leak_df[(leak_df.timestamp.dt.year > 2016) & (leak_df.timestamp.dt.year < 2019)]\n",
    "print (leak_df.duplicated().sum())\n",
    "#hi\n"
   ]
  },
  {
   "cell_type": "markdown",
   "metadata": {},
   "source": [
    "Helpful links:\n",
    "1. Inverse of np.log1p: https://stackoverflow.com/questions/50049891/what-is-the-inverse-of-numpys-log1p\n",
    "2. Building parallel keras model: https://stackoverflow.com/questions/43151775/how-to-have-parallel-convolutional-layers-in-keras\n",
    "3. How to make parallel keras models: https://datascience.stackexchange.com/questions/39407/how-to-make-two-parallel-convolutional-neural-networks-in-keras\n",
    "4. 2 parallel keras layers: https://stackoverflow.com/questions/51546075/two-parallel-conv2d-layers-keras\n",
    "5. Setting up Conv1D and LSTM: https://stackoverflow.com/questions/51344610/how-to-setup-1d-convolution-and-lstm-in-keras\n",
    "6. Take average of LSTM hidden states using Lambda: https://stackoverflow.com/questions/51479940/average-channels-of-convolutional-layer-keras\n",
    "7. Preparing categorical variable for neural networks: https://machinelearningmastery.com/how-to-prepare-categorical-data-for-deep-learning-in-python/\n",
    "8. Tutorial for using keras for time series (no generators used): https://medium.com/@jdwittenauer/deep-learning-with-keras-structured-time-series-37a66c6aeb28\n"
   ]
  },
  {
   "cell_type": "code",
   "execution_count": 5,
   "metadata": {},
   "outputs": [
    {
     "data": {
      "text/html": [
       "<div>\n",
       "<style scoped>\n",
       "    .dataframe tbody tr th:only-of-type {\n",
       "        vertical-align: middle;\n",
       "    }\n",
       "\n",
       "    .dataframe tbody tr th {\n",
       "        vertical-align: top;\n",
       "    }\n",
       "\n",
       "    .dataframe thead th {\n",
       "        text-align: right;\n",
       "    }\n",
       "</style>\n",
       "<table border=\"1\" class=\"dataframe\">\n",
       "  <thead>\n",
       "    <tr style=\"text-align: right;\">\n",
       "      <th></th>\n",
       "      <th>building_id</th>\n",
       "      <th>meter</th>\n",
       "      <th>timestamp</th>\n",
       "      <th>meter_reading</th>\n",
       "    </tr>\n",
       "  </thead>\n",
       "  <tbody>\n",
       "    <tr>\n",
       "      <th>0</th>\n",
       "      <td>0</td>\n",
       "      <td>0</td>\n",
       "      <td>2016-01-01 00:00:00</td>\n",
       "      <td>0.0</td>\n",
       "    </tr>\n",
       "    <tr>\n",
       "      <th>1</th>\n",
       "      <td>1</td>\n",
       "      <td>0</td>\n",
       "      <td>2016-01-01 00:00:00</td>\n",
       "      <td>0.0</td>\n",
       "    </tr>\n",
       "    <tr>\n",
       "      <th>2</th>\n",
       "      <td>2</td>\n",
       "      <td>0</td>\n",
       "      <td>2016-01-01 00:00:00</td>\n",
       "      <td>0.0</td>\n",
       "    </tr>\n",
       "    <tr>\n",
       "      <th>3</th>\n",
       "      <td>3</td>\n",
       "      <td>0</td>\n",
       "      <td>2016-01-01 00:00:00</td>\n",
       "      <td>0.0</td>\n",
       "    </tr>\n",
       "    <tr>\n",
       "      <th>4</th>\n",
       "      <td>4</td>\n",
       "      <td>0</td>\n",
       "      <td>2016-01-01 00:00:00</td>\n",
       "      <td>0.0</td>\n",
       "    </tr>\n",
       "  </tbody>\n",
       "</table>\n",
       "</div>"
      ],
      "text/plain": [
       "   building_id  meter            timestamp  meter_reading\n",
       "0            0      0  2016-01-01 00:00:00            0.0\n",
       "1            1      0  2016-01-01 00:00:00            0.0\n",
       "2            2      0  2016-01-01 00:00:00            0.0\n",
       "3            3      0  2016-01-01 00:00:00            0.0\n",
       "4            4      0  2016-01-01 00:00:00            0.0"
      ]
     },
     "execution_count": 5,
     "metadata": {},
     "output_type": "execute_result"
    }
   ],
   "source": [
    "train = pd.read_csv(\"gs://inputdata23/train.csv\")\n",
    "train.head()\n",
    "\n",
    "frames = [train, leak_df]\n",
    "train = pd.concat(frames)\n",
    "\n"
   ]
  },
  {
   "cell_type": "markdown",
   "metadata": {},
   "source": [
    "https://www.kaggle.com/purist1024/strategy-evaluation-what-helps-and-by-how-much/comments\n",
    "Drop potentially bad data\n",
    "There are two different optional strategies here that can be used together. _drop_electrical_zeros removes every electrical meter reading with a value of 0; while _drop_missing_site_0 gets rid of all electrical meter readings for site zero during the 141 days that its readings were mostly pegged to 0."
   ]
  },
  {
   "cell_type": "code",
   "execution_count": null,
   "metadata": {},
   "outputs": [],
   "source": [
    "def _drop_electrical_zeros(X, y):\n",
    "    X = X[(y > 0) | (X.meter != 0)]\n",
    "    y = y.reindex(X.index)\n",
    "    return X, y\n",
    "\n",
    "def _drop_missing_site_0(X, y):\n",
    "    X = X[(X.timestamp >= 3378) | (X.site_id != 0) | (X.meter != 0)]\n",
    "    y = y.reindex(X.index)\n",
    "    return X, y\n",
    "\n"
   ]
  },
  {
   "cell_type": "markdown",
   "metadata": {},
   "source": [
    "#### Scaling Meter Reading:\n",
    "1. nplog1p\n",
    "2. Group min-max scale"
   ]
  },
  {
   "cell_type": "code",
   "execution_count": 6,
   "metadata": {},
   "outputs": [],
   "source": [
    "reading = train['meter_reading']\n",
    "train['meter_reading'] = np.log1p(train['meter_reading'])\n",
    "\n",
    "#scaler1 = MinMaxScaler()\n",
    "#train['meter_reading'] = scaler1.fit_transform(X=np.reshape(train['meter_reading'].values, (-1, 1))).reshape(len(train),)"
   ]
  },
  {
   "cell_type": "code",
   "execution_count": 7,
   "metadata": {},
   "outputs": [],
   "source": [
    "train['key'] = train['building_id'].astype(str) + train['meter'].astype(str)\n"
   ]
  },
  {
   "cell_type": "code",
   "execution_count": 8,
   "metadata": {},
   "outputs": [],
   "source": [
    "sc_dict = dict()\n",
    "\n",
    "def minmaxscaler(x, name, l):\n",
    "    #print(name)\n",
    "    key = name\n",
    "    sc_dict[key]=MinMaxScaler()\n",
    "    return sc_dict[key].fit_transform(X=np.reshape(x.values, (-1, 1))).reshape(l,)"
   ]
  },
  {
   "cell_type": "code",
   "execution_count": 9,
   "metadata": {},
   "outputs": [],
   "source": [
    "train['meter_reading'] = train.groupby('key')['meter_reading'].transform(lambda x: minmaxscaler(x, x.name, len(x)))"
   ]
  },
  {
   "cell_type": "code",
   "execution_count": 10,
   "metadata": {},
   "outputs": [
    {
     "data": {
      "text/plain": [
       "2380"
      ]
     },
     "execution_count": 10,
     "metadata": {},
     "output_type": "execute_result"
    }
   ],
   "source": [
    "len(sc_dict.keys())"
   ]
  },
  {
   "cell_type": "code",
   "execution_count": 11,
   "metadata": {},
   "outputs": [],
   "source": [
    "# for key in train['key'].unique():\n",
    "#     print(key)\n",
    "#     l = len(train.loc[train.key == key])\n",
    "#     scaler1 = MinMaxScaler()\n",
    "#     train.loc[train.key == key, 'meter_reading'] = scaler1.fit_transform(X=np.reshape(train.loc[train.key == key, 'meter_reading'].values, (-1, 1))).reshape(l,)\n",
    "#     sc_dict[key] = scaler1"
   ]
  },
  {
   "cell_type": "code",
   "execution_count": 12,
   "metadata": {},
   "outputs": [
    {
     "data": {
      "text/plain": [
       "0.6081818134202291"
      ]
     },
     "execution_count": 12,
     "metadata": {},
     "output_type": "execute_result"
    }
   ],
   "source": [
    "train['meter_reading'].mean()"
   ]
  },
  {
   "cell_type": "code",
   "execution_count": 13,
   "metadata": {},
   "outputs": [],
   "source": [
    "train = train.drop('key', axis=1)"
   ]
  },
  {
   "cell_type": "code",
   "execution_count": 14,
   "metadata": {},
   "outputs": [
    {
     "data": {
      "text/html": [
       "<div>\n",
       "<style scoped>\n",
       "    .dataframe tbody tr th:only-of-type {\n",
       "        vertical-align: middle;\n",
       "    }\n",
       "\n",
       "    .dataframe tbody tr th {\n",
       "        vertical-align: top;\n",
       "    }\n",
       "\n",
       "    .dataframe thead th {\n",
       "        text-align: right;\n",
       "    }\n",
       "</style>\n",
       "<table border=\"1\" class=\"dataframe\">\n",
       "  <thead>\n",
       "    <tr style=\"text-align: right;\">\n",
       "      <th></th>\n",
       "      <th>building_id</th>\n",
       "      <th>meter</th>\n",
       "      <th>timestamp</th>\n",
       "      <th>meter_reading</th>\n",
       "    </tr>\n",
       "  </thead>\n",
       "  <tbody>\n",
       "    <tr>\n",
       "      <th>0</th>\n",
       "      <td>0</td>\n",
       "      <td>0</td>\n",
       "      <td>2016-01-01 00:00:00</td>\n",
       "      <td>0.0</td>\n",
       "    </tr>\n",
       "    <tr>\n",
       "      <th>1</th>\n",
       "      <td>1</td>\n",
       "      <td>0</td>\n",
       "      <td>2016-01-01 00:00:00</td>\n",
       "      <td>0.0</td>\n",
       "    </tr>\n",
       "    <tr>\n",
       "      <th>2</th>\n",
       "      <td>2</td>\n",
       "      <td>0</td>\n",
       "      <td>2016-01-01 00:00:00</td>\n",
       "      <td>0.0</td>\n",
       "    </tr>\n",
       "    <tr>\n",
       "      <th>3</th>\n",
       "      <td>3</td>\n",
       "      <td>0</td>\n",
       "      <td>2016-01-01 00:00:00</td>\n",
       "      <td>0.0</td>\n",
       "    </tr>\n",
       "    <tr>\n",
       "      <th>4</th>\n",
       "      <td>4</td>\n",
       "      <td>0</td>\n",
       "      <td>2016-01-01 00:00:00</td>\n",
       "      <td>0.0</td>\n",
       "    </tr>\n",
       "  </tbody>\n",
       "</table>\n",
       "</div>"
      ],
      "text/plain": [
       "   building_id  meter            timestamp  meter_reading\n",
       "0            0      0  2016-01-01 00:00:00            0.0\n",
       "1            1      0  2016-01-01 00:00:00            0.0\n",
       "2            2      0  2016-01-01 00:00:00            0.0\n",
       "3            3      0  2016-01-01 00:00:00            0.0\n",
       "4            4      0  2016-01-01 00:00:00            0.0"
      ]
     },
     "execution_count": 14,
     "metadata": {},
     "output_type": "execute_result"
    }
   ],
   "source": [
    "train.head()"
   ]
  },
  {
   "cell_type": "markdown",
   "metadata": {},
   "source": [
    "#### Reading Test Data"
   ]
  },
  {
   "cell_type": "code",
   "execution_count": 15,
   "metadata": {},
   "outputs": [],
   "source": [
    "test = pd.read_csv(\"gs://inputdata23/test.csv\")"
   ]
  },
  {
   "cell_type": "code",
   "execution_count": 16,
   "metadata": {},
   "outputs": [],
   "source": [
    "train.timestamp = pd.to_datetime(train.timestamp)\n",
    "test.timestamp = pd.to_datetime(test.timestamp)"
   ]
  },
  {
   "cell_type": "code",
   "execution_count": 17,
   "metadata": {},
   "outputs": [
    {
     "data": {
      "text/plain": [
       "(20216100, 41697600)"
      ]
     },
     "execution_count": 17,
     "metadata": {},
     "output_type": "execute_result"
    }
   ],
   "source": [
    "len(train), len(test)"
   ]
  },
  {
   "cell_type": "markdown",
   "metadata": {},
   "source": [
    "#### Reading Weather and Meta Data"
   ]
  },
  {
   "cell_type": "code",
   "execution_count": 18,
   "metadata": {},
   "outputs": [],
   "source": [
    "weather_train = pd.read_csv(\"gs://inputdata23/weather_train.csv\")\n",
    "weather_test = pd.read_csv(\"gs://inputdata23/weather_test.csv\")\n",
    "meta = pd.read_csv(\"gs://inputdata23/building_metadata.csv\")"
   ]
  },
  {
   "cell_type": "code",
   "execution_count": 19,
   "metadata": {},
   "outputs": [],
   "source": [
    "weather_train.timestamp = pd.to_datetime(weather_train.timestamp)\n",
    "weather_test.timestamp = pd.to_datetime(weather_test.timestamp)"
   ]
  },
  {
   "cell_type": "code",
   "execution_count": 20,
   "metadata": {},
   "outputs": [],
   "source": [
    "cols_keep = ['site_id', 'timestamp','air_temperature', 'dew_temperature']#, 'wind_speed']"
   ]
  },
  {
   "cell_type": "markdown",
   "metadata": {},
   "source": [
    "#### Fetching last hour of weather data"
   ]
  },
  {
   "cell_type": "code",
   "execution_count": 21,
   "metadata": {},
   "outputs": [],
   "source": [
    "weather_train = weather_train.sort_values(by = 'timestamp')\n",
    "weather_test = weather_test.sort_values(by = 'timestamp')"
   ]
  },
  {
   "cell_type": "code",
   "execution_count": 22,
   "metadata": {},
   "outputs": [],
   "source": [
    "weather = weather_train.append(weather_test)"
   ]
  },
  {
   "cell_type": "code",
   "execution_count": 23,
   "metadata": {},
   "outputs": [],
   "source": [
    "#weather['air_temperature_1'] = weather.groupby(['site_id'])['air_temperature'].shift(1)\n",
    "#weather['dew_temperature_1'] = weather.groupby(['site_id'])['dew_temperature'].shift(1)\n",
    "#weather['wind_speed_1'] = weather.groupby(['site_id'])['wind_speed'].shift(1)\n",
    "\n",
    "#weather['air_temperature_2'] = weather.groupby(['site_id'])['air_temperature'].shift(2)\n",
    "#weather['dew_temperature_2'] = weather.groupby(['site_id'])['dew_temperature'].shift(2)\n",
    "#weather['wind_speed_1'] = weather.groupby(['site_id'])['wind_speed'].shift(1)\n",
    "\n",
    "#weather['air_temperature_3'] = weather.groupby(['site_id'])['air_temperature'].shift(3)\n",
    "#weather['dew_temperature_3'] = weather.groupby(['site_id'])['dew_temperature'].shift(3)\n",
    "#weather['wind_speed_1'] = weather.groupby(['site_id'])['wind_speed'].shift(1)\n",
    "\n",
    "#weather['air_temperature_4'] = weather.groupby(['site_id'])['air_temperature'].shift(4)\n",
    "#weather['dew_temperature_4'] = weather.groupby(['site_id'])['dew_temperature'].shift(4)\n",
    "#weather['wind_speed_1'] = weather.groupby(['site_id'])['wind_speed'].shift(1)\n",
    "\n",
    "#weather['air_temperature_5'] = weather.groupby(['site_id'])['air_temperature'].shift(5)\n",
    "#weather['dew_temperature_5'] = weather.groupby(['site_id'])['dew_temperature'].shift(5)\n",
    "#weather['wind_speed_1'] = weather.groupby(['site_id'])['wind_speed'].shift(1)\n",
    "\n",
    "#weather['air_temperature_6'] = weather.groupby(['site_id'])['air_temperature'].shift(6)\n",
    "#weather['dew_temperature_6'] = weather.groupby(['site_id'])['dew_temperature'].shift(6)\n",
    "#weather['wind_speed_1'] = weather.groupby(['site_id'])['wind_speed'].shift(1)"
   ]
  },
  {
   "cell_type": "code",
   "execution_count": 24,
   "metadata": {},
   "outputs": [],
   "source": [
    "cols_keep = cols_keep #+ ['air_temperature_1',# 'dew_temperature_1',\n",
    "#                         'air_temperature_2',# 'dew_temperature_2',\n",
    "#                         'air_temperature_3',# 'dew_temperature_3',\n",
    "#                         'air_temperature_4', #'dew_temperature_4',\n",
    "#                         'air_temperature_5', #'dew_temperature_5',\n",
    "#                         'air_temperature_6']#, #'dew_temperature_6']"
   ]
  },
  {
   "cell_type": "code",
   "execution_count": 25,
   "metadata": {},
   "outputs": [],
   "source": [
    "train = pd.merge(pd.merge(train, meta, on='building_id', how='left'),\n",
    "                 weather[cols_keep],\n",
    "                 on=['site_id', 'timestamp'],\n",
    "                 how='inner')\n",
    "test = pd.merge(pd.merge(test, meta, on='building_id', how='left'),\n",
    "                 weather[cols_keep],\n",
    "                 on=['site_id', 'timestamp'],\n",
    "                 how='left')\n",
    "\n",
    "### site 0 from kBtu to kWh\n",
    "train.meter_reading[(train.site_id == 0)] = train.meter_reading*0.2931\n"
   ]
  },
  {
   "cell_type": "code",
   "execution_count": 26,
   "metadata": {},
   "outputs": [],
   "source": [
    "train['month'] = train.timestamp.dt.month\n",
    "train['dayofweek'] = train.timestamp.dt.dayofweek\n",
    "train['hour'] = train.timestamp.dt.hour\n",
    "\n",
    "test['month'] = test.timestamp.dt.month\n",
    "test['dayofweek'] = test.timestamp.dt.dayofweek\n",
    "test['hour'] = test.timestamp.dt.hour"
   ]
  },
  {
   "cell_type": "markdown",
   "metadata": {},
   "source": [
    "#### Adding Weekday/Weekend Flag"
   ]
  },
  {
   "cell_type": "code",
   "execution_count": 27,
   "metadata": {},
   "outputs": [],
   "source": [
    "train['weekday'] = 0\n",
    "test['weekday'] = 0\n",
    "weekday_map = {0:0,\n",
    "               1:0,\n",
    "               2:0,\n",
    "               3:0,\n",
    "               4:0,\n",
    "               5:1,\n",
    "               6:1}\n",
    "train['weekday'] = train['dayofweek'].map(weekday_map)\n",
    "test['weekday'] = test['dayofweek'].map(weekday_map)"
   ]
  },
  {
   "cell_type": "code",
   "execution_count": 28,
   "metadata": {},
   "outputs": [
    {
     "data": {
      "text/html": [
       "<div>\n",
       "<style scoped>\n",
       "    .dataframe tbody tr th:only-of-type {\n",
       "        vertical-align: middle;\n",
       "    }\n",
       "\n",
       "    .dataframe tbody tr th {\n",
       "        vertical-align: top;\n",
       "    }\n",
       "\n",
       "    .dataframe thead th {\n",
       "        text-align: right;\n",
       "    }\n",
       "</style>\n",
       "<table border=\"1\" class=\"dataframe\">\n",
       "  <thead>\n",
       "    <tr style=\"text-align: right;\">\n",
       "      <th></th>\n",
       "      <th>row_id</th>\n",
       "      <th>building_id</th>\n",
       "      <th>meter</th>\n",
       "      <th>timestamp</th>\n",
       "      <th>site_id</th>\n",
       "      <th>primary_use</th>\n",
       "      <th>square_feet</th>\n",
       "      <th>year_built</th>\n",
       "      <th>floor_count</th>\n",
       "      <th>air_temperature</th>\n",
       "      <th>dew_temperature</th>\n",
       "      <th>month</th>\n",
       "      <th>dayofweek</th>\n",
       "      <th>hour</th>\n",
       "      <th>weekday</th>\n",
       "    </tr>\n",
       "  </thead>\n",
       "  <tbody>\n",
       "    <tr>\n",
       "      <th>41497600</th>\n",
       "      <td>41497600</td>\n",
       "      <td>1337</td>\n",
       "      <td>1</td>\n",
       "      <td>2018-12-31 20:00:00</td>\n",
       "      <td>15</td>\n",
       "      <td>Office</td>\n",
       "      <td>14744</td>\n",
       "      <td>1910.0</td>\n",
       "      <td>NaN</td>\n",
       "      <td>2.8</td>\n",
       "      <td>1.1</td>\n",
       "      <td>12</td>\n",
       "      <td>0</td>\n",
       "      <td>20</td>\n",
       "      <td>0</td>\n",
       "    </tr>\n",
       "    <tr>\n",
       "      <th>41497601</th>\n",
       "      <td>41497601</td>\n",
       "      <td>1337</td>\n",
       "      <td>2</td>\n",
       "      <td>2018-12-31 20:00:00</td>\n",
       "      <td>15</td>\n",
       "      <td>Office</td>\n",
       "      <td>14744</td>\n",
       "      <td>1910.0</td>\n",
       "      <td>NaN</td>\n",
       "      <td>2.8</td>\n",
       "      <td>1.1</td>\n",
       "      <td>12</td>\n",
       "      <td>0</td>\n",
       "      <td>20</td>\n",
       "      <td>0</td>\n",
       "    </tr>\n",
       "    <tr>\n",
       "      <th>41497602</th>\n",
       "      <td>41497602</td>\n",
       "      <td>1338</td>\n",
       "      <td>0</td>\n",
       "      <td>2018-12-31 20:00:00</td>\n",
       "      <td>15</td>\n",
       "      <td>Education</td>\n",
       "      <td>31415</td>\n",
       "      <td>1912.0</td>\n",
       "      <td>NaN</td>\n",
       "      <td>2.8</td>\n",
       "      <td>1.1</td>\n",
       "      <td>12</td>\n",
       "      <td>0</td>\n",
       "      <td>20</td>\n",
       "      <td>0</td>\n",
       "    </tr>\n",
       "    <tr>\n",
       "      <th>41497603</th>\n",
       "      <td>41497603</td>\n",
       "      <td>1338</td>\n",
       "      <td>2</td>\n",
       "      <td>2018-12-31 20:00:00</td>\n",
       "      <td>15</td>\n",
       "      <td>Education</td>\n",
       "      <td>31415</td>\n",
       "      <td>1912.0</td>\n",
       "      <td>NaN</td>\n",
       "      <td>2.8</td>\n",
       "      <td>1.1</td>\n",
       "      <td>12</td>\n",
       "      <td>0</td>\n",
       "      <td>20</td>\n",
       "      <td>0</td>\n",
       "    </tr>\n",
       "    <tr>\n",
       "      <th>41497604</th>\n",
       "      <td>41497604</td>\n",
       "      <td>1339</td>\n",
       "      <td>0</td>\n",
       "      <td>2018-12-31 20:00:00</td>\n",
       "      <td>15</td>\n",
       "      <td>Education</td>\n",
       "      <td>140488</td>\n",
       "      <td>1961.0</td>\n",
       "      <td>NaN</td>\n",
       "      <td>2.8</td>\n",
       "      <td>1.1</td>\n",
       "      <td>12</td>\n",
       "      <td>0</td>\n",
       "      <td>20</td>\n",
       "      <td>0</td>\n",
       "    </tr>\n",
       "    <tr>\n",
       "      <th>...</th>\n",
       "      <td>...</td>\n",
       "      <td>...</td>\n",
       "      <td>...</td>\n",
       "      <td>...</td>\n",
       "      <td>...</td>\n",
       "      <td>...</td>\n",
       "      <td>...</td>\n",
       "      <td>...</td>\n",
       "      <td>...</td>\n",
       "      <td>...</td>\n",
       "      <td>...</td>\n",
       "      <td>...</td>\n",
       "      <td>...</td>\n",
       "      <td>...</td>\n",
       "      <td>...</td>\n",
       "    </tr>\n",
       "    <tr>\n",
       "      <th>41498620</th>\n",
       "      <td>41498620</td>\n",
       "      <td>144</td>\n",
       "      <td>0</td>\n",
       "      <td>2017-01-18 09:00:00</td>\n",
       "      <td>1</td>\n",
       "      <td>Office</td>\n",
       "      <td>57673</td>\n",
       "      <td>NaN</td>\n",
       "      <td>5.0</td>\n",
       "      <td>NaN</td>\n",
       "      <td>NaN</td>\n",
       "      <td>1</td>\n",
       "      <td>2</td>\n",
       "      <td>9</td>\n",
       "      <td>0</td>\n",
       "    </tr>\n",
       "    <tr>\n",
       "      <th>41498621</th>\n",
       "      <td>41498621</td>\n",
       "      <td>144</td>\n",
       "      <td>3</td>\n",
       "      <td>2017-01-18 09:00:00</td>\n",
       "      <td>1</td>\n",
       "      <td>Office</td>\n",
       "      <td>57673</td>\n",
       "      <td>NaN</td>\n",
       "      <td>5.0</td>\n",
       "      <td>NaN</td>\n",
       "      <td>NaN</td>\n",
       "      <td>1</td>\n",
       "      <td>2</td>\n",
       "      <td>9</td>\n",
       "      <td>0</td>\n",
       "    </tr>\n",
       "    <tr>\n",
       "      <th>41498622</th>\n",
       "      <td>41498622</td>\n",
       "      <td>145</td>\n",
       "      <td>0</td>\n",
       "      <td>2017-01-18 09:00:00</td>\n",
       "      <td>1</td>\n",
       "      <td>Office</td>\n",
       "      <td>14219</td>\n",
       "      <td>NaN</td>\n",
       "      <td>4.0</td>\n",
       "      <td>NaN</td>\n",
       "      <td>NaN</td>\n",
       "      <td>1</td>\n",
       "      <td>2</td>\n",
       "      <td>9</td>\n",
       "      <td>0</td>\n",
       "    </tr>\n",
       "    <tr>\n",
       "      <th>41498623</th>\n",
       "      <td>41498623</td>\n",
       "      <td>145</td>\n",
       "      <td>3</td>\n",
       "      <td>2017-01-18 09:00:00</td>\n",
       "      <td>1</td>\n",
       "      <td>Office</td>\n",
       "      <td>14219</td>\n",
       "      <td>NaN</td>\n",
       "      <td>4.0</td>\n",
       "      <td>NaN</td>\n",
       "      <td>NaN</td>\n",
       "      <td>1</td>\n",
       "      <td>2</td>\n",
       "      <td>9</td>\n",
       "      <td>0</td>\n",
       "    </tr>\n",
       "    <tr>\n",
       "      <th>41498624</th>\n",
       "      <td>41498624</td>\n",
       "      <td>146</td>\n",
       "      <td>0</td>\n",
       "      <td>2017-01-18 09:00:00</td>\n",
       "      <td>1</td>\n",
       "      <td>Office</td>\n",
       "      <td>31614</td>\n",
       "      <td>1956.0</td>\n",
       "      <td>8.0</td>\n",
       "      <td>NaN</td>\n",
       "      <td>NaN</td>\n",
       "      <td>1</td>\n",
       "      <td>2</td>\n",
       "      <td>9</td>\n",
       "      <td>0</td>\n",
       "    </tr>\n",
       "  </tbody>\n",
       "</table>\n",
       "<p>1025 rows × 15 columns</p>\n",
       "</div>"
      ],
      "text/plain": [
       "            row_id  building_id  meter           timestamp  site_id  \\\n",
       "41497600  41497600         1337      1 2018-12-31 20:00:00       15   \n",
       "41497601  41497601         1337      2 2018-12-31 20:00:00       15   \n",
       "41497602  41497602         1338      0 2018-12-31 20:00:00       15   \n",
       "41497603  41497603         1338      2 2018-12-31 20:00:00       15   \n",
       "41497604  41497604         1339      0 2018-12-31 20:00:00       15   \n",
       "...            ...          ...    ...                 ...      ...   \n",
       "41498620  41498620          144      0 2017-01-18 09:00:00        1   \n",
       "41498621  41498621          144      3 2017-01-18 09:00:00        1   \n",
       "41498622  41498622          145      0 2017-01-18 09:00:00        1   \n",
       "41498623  41498623          145      3 2017-01-18 09:00:00        1   \n",
       "41498624  41498624          146      0 2017-01-18 09:00:00        1   \n",
       "\n",
       "         primary_use  square_feet  year_built  floor_count  air_temperature  \\\n",
       "41497600      Office        14744      1910.0          NaN              2.8   \n",
       "41497601      Office        14744      1910.0          NaN              2.8   \n",
       "41497602   Education        31415      1912.0          NaN              2.8   \n",
       "41497603   Education        31415      1912.0          NaN              2.8   \n",
       "41497604   Education       140488      1961.0          NaN              2.8   \n",
       "...              ...          ...         ...          ...              ...   \n",
       "41498620      Office        57673         NaN          5.0              NaN   \n",
       "41498621      Office        57673         NaN          5.0              NaN   \n",
       "41498622      Office        14219         NaN          4.0              NaN   \n",
       "41498623      Office        14219         NaN          4.0              NaN   \n",
       "41498624      Office        31614      1956.0          8.0              NaN   \n",
       "\n",
       "          dew_temperature  month  dayofweek  hour  weekday  \n",
       "41497600              1.1     12          0    20        0  \n",
       "41497601              1.1     12          0    20        0  \n",
       "41497602              1.1     12          0    20        0  \n",
       "41497603              1.1     12          0    20        0  \n",
       "41497604              1.1     12          0    20        0  \n",
       "...                   ...    ...        ...   ...      ...  \n",
       "41498620              NaN      1          2     9        0  \n",
       "41498621              NaN      1          2     9        0  \n",
       "41498622              NaN      1          2     9        0  \n",
       "41498623              NaN      1          2     9        0  \n",
       "41498624              NaN      1          2     9        0  \n",
       "\n",
       "[1025 rows x 15 columns]"
      ]
     },
     "execution_count": 28,
     "metadata": {},
     "output_type": "execute_result"
    }
   ],
   "source": [
    "test.loc[40525*1024: (40525*1024)+1024]"
   ]
  },
  {
   "cell_type": "markdown",
   "metadata": {},
   "source": [
    "#### Scaling Data"
   ]
  },
  {
   "cell_type": "code",
   "execution_count": 29,
   "metadata": {},
   "outputs": [],
   "source": [
    "train = train.fillna(0)\n",
    "test = test.fillna(0)"
   ]
  },
  {
   "cell_type": "code",
   "execution_count": 30,
   "metadata": {},
   "outputs": [],
   "source": [
    "#num_cols"
   ]
  },
  {
   "cell_type": "code",
   "execution_count": 31,
   "metadata": {},
   "outputs": [
    {
     "name": "stderr",
     "output_type": "stream",
     "text": [
      "/home/jupyter/.local/lib/python3.5/site-packages/sklearn/preprocessing/data.py:323: DataConversionWarning: Data with input dtype int64, float64 were all converted to float64 by MinMaxScaler.\n",
      "  return self.partial_fit(X, y)\n"
     ]
    },
    {
     "data": {
      "text/plain": [
       "MinMaxScaler(copy=True, feature_range=(0, 1))"
      ]
     },
     "execution_count": 31,
     "metadata": {},
     "output_type": "execute_result"
    }
   ],
   "source": [
    "scaler2 = MinMaxScaler()\n",
    "num_cols = ['air_temperature', 'dew_temperature'] + ['square_feet', 'floor_count']#+['wind_speed']# + ['air_temperature_1', \n",
    "                                                                                                    #'dew_temperature_1',\n",
    "                                                                                                    #'air_temperature_2', \n",
    "                                                                                                    #'dew_temperature_2',\n",
    "                                                                                                    #'air_temperature_3',\n",
    "                                                                                                    #'dew_temperature_3',\n",
    "                                                                                                    #'air_temperature_4', #'dew_temperature_4',\n",
    "                                                                                                    #'air_temperature_5', #'dew_temperature_5',\n",
    "                                                                                                    #'air_temperature_6']#, #'dew_temperature_6']\n",
    "scaler2.fit(train[num_cols])"
   ]
  },
  {
   "cell_type": "code",
   "execution_count": 32,
   "metadata": {},
   "outputs": [],
   "source": [
    "train[num_cols] = scaler2.transform(train[num_cols])\n",
    "test[num_cols] = scaler2.transform(test[num_cols])"
   ]
  },
  {
   "cell_type": "markdown",
   "metadata": {},
   "source": [
    "#### Joining Weather, Metadata with load data"
   ]
  },
  {
   "cell_type": "code",
   "execution_count": 33,
   "metadata": {},
   "outputs": [
    {
     "data": {
      "text/plain": [
       "(20125605, 41697600)"
      ]
     },
     "execution_count": 33,
     "metadata": {},
     "output_type": "execute_result"
    }
   ],
   "source": [
    "len(train), len(test)"
   ]
  },
  {
   "cell_type": "code",
   "execution_count": 34,
   "metadata": {},
   "outputs": [
    {
     "data": {
      "text/plain": [
       "Index(['building_id', 'meter', 'timestamp', 'meter_reading', 'site_id',\n",
       "       'primary_use', 'square_feet', 'year_built', 'floor_count',\n",
       "       'air_temperature', 'dew_temperature', 'month', 'dayofweek', 'hour',\n",
       "       'weekday'],\n",
       "      dtype='object')"
      ]
     },
     "execution_count": 34,
     "metadata": {},
     "output_type": "execute_result"
    }
   ],
   "source": [
    "train.columns"
   ]
  },
  {
   "cell_type": "code",
   "execution_count": 35,
   "metadata": {},
   "outputs": [
    {
     "data": {
      "text/html": [
       "<div>\n",
       "<style scoped>\n",
       "    .dataframe tbody tr th:only-of-type {\n",
       "        vertical-align: middle;\n",
       "    }\n",
       "\n",
       "    .dataframe tbody tr th {\n",
       "        vertical-align: top;\n",
       "    }\n",
       "\n",
       "    .dataframe thead th {\n",
       "        text-align: right;\n",
       "    }\n",
       "</style>\n",
       "<table border=\"1\" class=\"dataframe\">\n",
       "  <thead>\n",
       "    <tr style=\"text-align: right;\">\n",
       "      <th></th>\n",
       "      <th>building_id</th>\n",
       "      <th>meter</th>\n",
       "      <th>timestamp</th>\n",
       "      <th>meter_reading</th>\n",
       "      <th>site_id</th>\n",
       "      <th>primary_use</th>\n",
       "      <th>square_feet</th>\n",
       "      <th>year_built</th>\n",
       "      <th>floor_count</th>\n",
       "      <th>air_temperature</th>\n",
       "      <th>dew_temperature</th>\n",
       "      <th>month</th>\n",
       "      <th>dayofweek</th>\n",
       "      <th>hour</th>\n",
       "      <th>weekday</th>\n",
       "    </tr>\n",
       "  </thead>\n",
       "  <tbody>\n",
       "    <tr>\n",
       "      <th>0</th>\n",
       "      <td>0</td>\n",
       "      <td>0</td>\n",
       "      <td>2016-01-01</td>\n",
       "      <td>0.0</td>\n",
       "      <td>0</td>\n",
       "      <td>Education</td>\n",
       "      <td>0.008173</td>\n",
       "      <td>2008.0</td>\n",
       "      <td>0.0</td>\n",
       "      <td>0.708279</td>\n",
       "      <td>0.900164</td>\n",
       "      <td>1</td>\n",
       "      <td>4</td>\n",
       "      <td>0</td>\n",
       "      <td>0</td>\n",
       "    </tr>\n",
       "    <tr>\n",
       "      <th>1</th>\n",
       "      <td>1</td>\n",
       "      <td>0</td>\n",
       "      <td>2016-01-01</td>\n",
       "      <td>0.0</td>\n",
       "      <td>0</td>\n",
       "      <td>Education</td>\n",
       "      <td>0.002786</td>\n",
       "      <td>2004.0</td>\n",
       "      <td>0.0</td>\n",
       "      <td>0.708279</td>\n",
       "      <td>0.900164</td>\n",
       "      <td>1</td>\n",
       "      <td>4</td>\n",
       "      <td>0</td>\n",
       "      <td>0</td>\n",
       "    </tr>\n",
       "  </tbody>\n",
       "</table>\n",
       "</div>"
      ],
      "text/plain": [
       "   building_id  meter  timestamp  meter_reading  site_id primary_use  \\\n",
       "0            0      0 2016-01-01            0.0        0   Education   \n",
       "1            1      0 2016-01-01            0.0        0   Education   \n",
       "\n",
       "   square_feet  year_built  floor_count  air_temperature  dew_temperature  \\\n",
       "0     0.008173      2008.0          0.0         0.708279         0.900164   \n",
       "1     0.002786      2004.0          0.0         0.708279         0.900164   \n",
       "\n",
       "   month  dayofweek  hour  weekday  \n",
       "0      1          4     0        0  \n",
       "1      1          4     0        0  "
      ]
     },
     "execution_count": 35,
     "metadata": {},
     "output_type": "execute_result"
    }
   ],
   "source": [
    "train.head(2)"
   ]
  },
  {
   "cell_type": "markdown",
   "metadata": {},
   "source": [
    "#### Encoding Categorical Variables"
   ]
  },
  {
   "cell_type": "code",
   "execution_count": 36,
   "metadata": {},
   "outputs": [
    {
     "data": {
      "text/plain": [
       "OrdinalEncoder(categories='auto', dtype=<class 'numpy.float64'>)"
      ]
     },
     "execution_count": 36,
     "metadata": {},
     "output_type": "execute_result"
    }
   ],
   "source": [
    "enc = OrdinalEncoder()\n",
    "cat_cols = ['site_id', 'hour', 'dayofweek', 'month', 'primary_use']#, 'year_built']\n",
    "other_cols = ['building_id', 'meter']\n",
    "enc.fit(train[cat_cols])\n"
   ]
  },
  {
   "cell_type": "code",
   "execution_count": 37,
   "metadata": {},
   "outputs": [],
   "source": [
    "train[cat_cols] = enc.transform(train[cat_cols])\n",
    "test[cat_cols] = enc.transform(test[cat_cols])"
   ]
  },
  {
   "cell_type": "markdown",
   "metadata": {},
   "source": [
    "#### Random ID selection"
   ]
  },
  {
   "cell_type": "markdown",
   "metadata": {},
   "source": [
    "Using 30% of the data as validation data. If more data is needed, we should consider adding data by randomly selecting buildings."
   ]
  },
  {
   "cell_type": "code",
   "execution_count": 38,
   "metadata": {},
   "outputs": [],
   "source": [
    "ids = train['building_id'].unique()"
   ]
  },
  {
   "cell_type": "code",
   "execution_count": 39,
   "metadata": {},
   "outputs": [],
   "source": [
    "# keeping 80% of the ids\n",
    "len_sub = round(len(ids)*0.80)\n",
    "ids_sub = np.random.choice(ids, len_sub, replace = False)"
   ]
  },
  {
   "cell_type": "code",
   "execution_count": 40,
   "metadata": {},
   "outputs": [],
   "source": [
    "# 0.3 represents the percentage of data that is kept for validation\n",
    "len_val = round(len(ids_sub)*0.3)"
   ]
  },
  {
   "cell_type": "code",
   "execution_count": 41,
   "metadata": {},
   "outputs": [],
   "source": [
    "ids_val = np.random.choice(ids_sub, len_val, replace = False)"
   ]
  },
  {
   "cell_type": "code",
   "execution_count": 42,
   "metadata": {},
   "outputs": [],
   "source": [
    "ids_train = np.setdiff1d(ids_sub,ids_val)"
   ]
  },
  {
   "cell_type": "code",
   "execution_count": 43,
   "metadata": {},
   "outputs": [],
   "source": [
    "assert len(ids_val)+len(ids_train)==len(ids_sub)"
   ]
  },
  {
   "cell_type": "markdown",
   "metadata": {},
   "source": [
    "#### Applying TimeseriesGenerator to the ASHRAE training data"
   ]
  },
  {
   "cell_type": "markdown",
   "metadata": {},
   "source": [
    "Once difference between the example above, and our situation is that we have multiple timeseries, for each building and each meter in the building. So, we will be required to modify the code a little bit.\n",
    "\n",
    "Below, we check how many meters exist in the dataset."
   ]
  },
  {
   "cell_type": "code",
   "execution_count": 44,
   "metadata": {},
   "outputs": [
    {
     "data": {
      "text/plain": [
       "(2380, 2380)"
      ]
     },
     "execution_count": 44,
     "metadata": {},
     "output_type": "execute_result"
    }
   ],
   "source": [
    "len(train[['building_id', 'meter']].drop_duplicates()), len(test[['building_id', 'meter']].drop_duplicates())"
   ]
  },
  {
   "cell_type": "markdown",
   "metadata": {},
   "source": [
    "The code below has been taken from this stackoverflow answer with some modifications:\n",
    "https://stackoverflow.com/questions/55116638/use-keras-timeseriesgenerator-function-to-generate-squence-group-by-some-id/55118459#55118459\n",
    "\n",
    "The modification is basically that once we subset the data for building ID, it is then subset for meter type also.\n",
    "\n",
    "Further reading about modifying keras generator classes can be found below:\n",
    "https://stanford.edu/~shervine/blog/keras-how-to-generate-data-on-the-fly"
   ]
  },
  {
   "cell_type": "markdown",
   "metadata": {},
   "source": [
    "#### Defining Generators"
   ]
  },
  {
   "cell_type": "code",
   "execution_count": 56,
   "metadata": {},
   "outputs": [
    {
     "data": {
      "text/plain": [
       "['site_id',\n",
       " 'hour',\n",
       " 'dayofweek',\n",
       " 'month',\n",
       " 'primary_use',\n",
       " 'building_id',\n",
       " 'meter',\n",
       " 'weekday']"
      ]
     },
     "execution_count": 56,
     "metadata": {},
     "output_type": "execute_result"
    }
   ],
   "source": [
    "num_cols = num_cols\n",
    "\n",
    "cat_names = cat_cols + other_cols + ['weekday']\n",
    "\n",
    "#new_cat_names = list(enc.get_feature_names(cat_names))\n",
    "\n",
    "#col_names = num_cols + new_cat_names\n",
    "cat_names"
   ]
  },
  {
   "cell_type": "code",
   "execution_count": 49,
   "metadata": {},
   "outputs": [],
   "source": [
    "class DataGenerator(keras.utils.Sequence):\n",
    "    def __init__(self, dt, num_cols, cat_names, batch_size = 10):\n",
    "        self.batch_size = batch_size\n",
    "        self.len = len(dt)//batch_size\n",
    "        self.dt = dt[num_cols + cat_names + ['meter_reading']]\n",
    "        self.num_cols = num_cols\n",
    "        self.cat_names = cat_names\n",
    "\n",
    "    def __len__(self):\n",
    "        return self.len\n",
    "\n",
    "    def __getitem__(self, index):\n",
    "        index_start = index*self.batch_size\n",
    "        index_end = index_start+self.batch_size\n",
    "        adf = self.dt[index_start:index_end]\n",
    "        return [adf[x] for x in cat_names]+[adf[num_cols]], adf['meter_reading']"
   ]
  },
  {
   "cell_type": "code",
   "execution_count": 50,
   "metadata": {},
   "outputs": [],
   "source": [
    "class TestDataGenerator(keras.utils.Sequence):\n",
    "    def __init__(self, dt, num_cols, cat_names, batch_size = 10):\n",
    "        self.batch_size = batch_size\n",
    "        self.len = round(len(dt)/batch_size)\n",
    "        self.dt = dt[num_cols + cat_names]\n",
    "        self.num_cols = num_cols\n",
    "        self.cat_names = cat_names\n",
    "\n",
    "    def __len__(self):\n",
    "        return self.len\n",
    "\n",
    "    def __getitem__(self, index):\n",
    "        index_start = index*self.batch_size\n",
    "        index_end = index_start+self.batch_size\n",
    "        adf = self.dt[index_start:index_end]\n",
    "        return [adf[x] for x in cat_names]+[adf[num_cols]]"
   ]
  },
  {
   "cell_type": "markdown",
   "metadata": {},
   "source": [
    "#### Training and Validation Generators"
   ]
  },
  {
   "cell_type": "code",
   "execution_count": 53,
   "metadata": {},
   "outputs": [
    {
     "data": {
      "text/plain": [
       "<__main__.DataGenerator at 0x7f0f3cfe0f98>"
      ]
     },
     "execution_count": 53,
     "metadata": {},
     "output_type": "execute_result"
    }
   ],
   "source": [
    "# Test\n",
    "batch_size = 60*1024#1024+512\n",
    "train_gen = DataGenerator(train[train['building_id'].isin(ids_train)], \n",
    "                          num_cols=num_cols, \n",
    "                          cat_names=cat_names,\n",
    "                          batch_size=batch_size)\n",
    "val_gen = DataGenerator(train[train['building_id'].isin(ids_val)],\n",
    "                        num_cols=num_cols, \n",
    "                        cat_names=cat_names,\n",
    "                        batch_size=batch_size)   \n"
   ]
  },
  {
   "cell_type": "code",
   "execution_count": 54,
   "metadata": {},
   "outputs": [],
   "source": [
    "check1 = train_gen[0]\n",
    "check2 = val_gen[0]"
   ]
  },
  {
   "cell_type": "code",
   "execution_count": 55,
   "metadata": {},
   "outputs": [
    {
     "data": {
      "text/plain": [
       "(9, 9, 9)"
      ]
     },
     "execution_count": 55,
     "metadata": {},
     "output_type": "execute_result"
    }
   ],
   "source": [
    "len(check1[0]), len(check2[0]), len(cat_names)+1"
   ]
  },
  {
   "cell_type": "markdown",
   "metadata": {},
   "source": [
    "#### Loss Function - Root Mean Square"
   ]
  },
  {
   "cell_type": "code",
   "execution_count": 57,
   "metadata": {},
   "outputs": [],
   "source": [
    "def root_mean_squared_error(y_true, y_pred):\n",
    "        return K.sqrt(K.mean(K.square(y_pred - y_true))) "
   ]
  },
  {
   "cell_type": "markdown",
   "metadata": {},
   "source": [
    "#### Embeddings NN\n",
    "\n",
    "1. https://towardsdatascience.com/decoded-entity-embeddings-of-categorical-variables-in-neural-networks-1d2468311635\n",
    "2. https://medium.com/@satnalikamayank12/on-learning-embeddings-for-categorical-data-using-keras-165ff2773fc9\n",
    "3. https://github.com/mayanksatnalika/ipython/blob/master/embeddings%20project/cycle_sharing/entity_embeddings_regression.ipynb"
   ]
  },
  {
   "cell_type": "code",
   "execution_count": 58,
   "metadata": {},
   "outputs": [
    {
     "data": {
      "text/plain": [
       "Index(['building_id', 'meter', 'timestamp', 'meter_reading', 'site_id',\n",
       "       'primary_use', 'square_feet', 'year_built', 'floor_count',\n",
       "       'air_temperature', 'dew_temperature', 'month', 'dayofweek', 'hour',\n",
       "       'weekday'],\n",
       "      dtype='object')"
      ]
     },
     "execution_count": 58,
     "metadata": {},
     "output_type": "execute_result"
    }
   ],
   "source": [
    "train.columns"
   ]
  },
  {
   "cell_type": "code",
   "execution_count": 59,
   "metadata": {},
   "outputs": [
    {
     "data": {
      "text/plain": [
       "15"
      ]
     },
     "execution_count": 59,
     "metadata": {},
     "output_type": "execute_result"
    }
   ],
   "source": [
    "len(train.columns)"
   ]
  },
  {
   "cell_type": "code",
   "execution_count": 60,
   "metadata": {},
   "outputs": [
    {
     "data": {
      "text/plain": [
       "(8, 4)"
      ]
     },
     "execution_count": 60,
     "metadata": {},
     "output_type": "execute_result"
    }
   ],
   "source": [
    "len(cat_names), len(num_cols)"
   ]
  },
  {
   "cell_type": "code",
   "execution_count": 61,
   "metadata": {},
   "outputs": [],
   "source": [
    "models = []\n",
    "inputs = []\n",
    "act = 'relu'\n",
    "n_num_cols = len(num_cols)\n",
    "\n",
    "\n",
    "for categorical_var in cat_names:\n",
    "    model = Sequential()\n",
    "    model.reset_states()\n",
    "    no_of_unique_cat  = train[categorical_var].nunique()\n",
    "    embedding_size = min(np.ceil((no_of_unique_cat)/2), 50 )\n",
    "    embedding_size = int(embedding_size)\n",
    "    input1 = Input(shape=(1,))\n",
    "    model = Embedding(no_of_unique_cat+1,embedding_size)(input1)\n",
    "    model = Reshape(target_shape=(embedding_size,))(model)\n",
    "    models.append(model)\n",
    "    inputs.append(input1)\n",
    "    \n",
    "input1 = Input(shape=(n_num_cols,))\n",
    "model_rest = Dense(100, activation=act)(input1)\n",
    "models.append(model_rest)\n",
    "inputs.append(input1)\n",
    "\n",
    "m1 = keras.layers.concatenate(models, axis = 1)\n",
    "m1 = Dropout(0.5)(m1)\n",
    "m1 = Dense(200, activation=act)(m1)\n",
    "m1 = Dropout(0.5)(m1)\n",
    "m1 = Dense(5, activation=act)(m1)\n",
    "m1 = LeakyReLU(alpha=0.1)(m1)\n",
    "m1 = Dropout(0.2)(m1)\n",
    "m1 = Dense(1, activation='sigmoid')(m1)\n",
    "\n",
    "model3 = Model(inputs = inputs, outputs = m1)\n",
    "\n",
    "opt = keras.optimizers.RMSprop(clipnorm=1.)\n",
    "\n",
    "model3.compile(loss=root_mean_squared_error, optimizer=opt, metrics=['mse', 'mae', 'mape'])"
   ]
  },
  {
   "cell_type": "code",
   "execution_count": 56,
   "metadata": {},
   "outputs": [
    {
     "data": {
      "image/png": "[encoded data removed]",
      "text/plain": [
       "<IPython.core.display.Image object>"
      ]
     },
     "execution_count": 56,
     "metadata": {},
     "output_type": "execute_result"
    }
   ],
   "source": [
    "plot_model(model3)"
   ]
  },
  {
   "cell_type": "code",
   "execution_count": 57,
   "metadata": {},
   "outputs": [],
   "source": [
    "#model3.summary()"
   ]
  },
  {
   "cell_type": "code",
   "execution_count": null,
   "metadata": {},
   "outputs": [
    {
     "name": "stderr",
     "output_type": "stream",
     "text": [
      "/usr/local/lib/python3.5/dist-packages/tensorflow_core/python/framework/indexed_slices.py:424: UserWarning: Converting sparse IndexedSlices to a dense Tensor of unknown shape. This may consume a large amount of memory.\n",
      "  \"Converting sparse IndexedSlices to a dense Tensor of unknown shape. \"\n"
     ]
    },
    {
     "name": "stdout",
     "output_type": "stream",
     "text": [
      "Epoch 1/10\n",
      "182/183 [============================>.] - ETA: 0s - loss: 0.2627 - mse: 0.0694 - mae: 0.2085 - mape: 50178488.0000Epoch 1/10\n",
      "Epoch 1/10\n",
      "183/183 [==============================] - 125s 684ms/step - loss: 0.2627 - mse: 0.0694 - mae: 0.2084 - mape: 50135260.0000 - val_loss: 0.2722 - val_mse: 0.0768 - val_mae: 0.2303 - val_mape: 49180076.0000\n",
      "Epoch 2/10\n",
      " 19/183 [==>...........................] - ETA: 1:43 - loss: 0.2473 - mse: 0.0615 - mae: 0.1912 - mape: 44453764.0000"
     ]
    }
   ],
   "source": [
    "epochs = 10#TODO: change it back to 5\n",
    "workers = 10\n",
    "model3.fit_generator(generator=train_gen,\n",
    "                    validation_data=val_gen, epochs=epochs, \n",
    "                    use_multiprocessing=True, workers = workers)"
   ]
  },
  {
   "cell_type": "code",
   "execution_count": null,
   "metadata": {},
   "outputs": [],
   "source": [
    "# model_rest with Dense(65), epoch 1: loss=0.2594, val_loss=0.2829, val_loss somewhat constant\n",
    "# model_rest with Dense(120), epoch 1: loss=0.2589, val_loss=0.2835, val_loss somewhat constant\n",
    "# model_rest with Dense(300), epoch 1: loss=0.2594, val_loss=0.2830, val_loss somewhat constant\n",
    "# model_rest with Dense(65), combined model with Dense(200), epoch 1: loss=0.2554, val_loss=0.2858, val_loss reduces to 0.2550 by epoch 5"
   ]
  },
  {
   "cell_type": "markdown",
   "metadata": {},
   "source": [
    "1. Dense(64) for model_rest, epoch 1: loss=0.0656, val_loss=0.1382, val_loss increased\n",
    "2. Replacing the Dense(64) for model_rest with Dense(24), epoch 1: loss: 0.0648, val_loss: 0.1481, val_loss increased"
   ]
  },
  {
   "cell_type": "code",
   "execution_count": 56,
   "metadata": {},
   "outputs": [
    {
     "name": "stdout",
     "output_type": "stream",
     "text": [
      "5\n"
     ]
    }
   ],
   "source": [
    "val_test_gen = TestDataGenerator(train[train['building_id'].isin(ids_val[0:20])], \n",
    "                                 num_cols=num_cols, \n",
    "                                cat_names=cat_names,\n",
    "                                batch_size=batch_size)\n",
    "print(len(val_test_gen))\n",
    "\n",
    "val_test_res = model3.predict_generator(generator=val_test_gen, workers=12, use_multiprocessing=True)\n",
    "\n",
    "x = []\n",
    "for i in range(len(val_test_gen)):\n",
    "    x.append(val_gen[i][1].values)\n"
   ]
  },
  {
   "cell_type": "code",
   "execution_count": 59,
   "metadata": {},
   "outputs": [],
   "source": [
    "dummy = train[train['building_id'].isin(ids_val[0:20])].copy()"
   ]
  },
  {
   "cell_type": "code",
   "execution_count": 64,
   "metadata": {},
   "outputs": [],
   "source": [
    "dummy['y'] = val_test_res\n",
    "dummy['key'] = dummy['building_id'].astype(str) + dummy['meter'].astype(str)\n"
   ]
  },
  {
   "cell_type": "code",
   "execution_count": 63,
   "metadata": {},
   "outputs": [],
   "source": [
    "def inverseminmax(x, name, l):\n",
    "    key = name\n",
    "    return sc_dict[key].inverse_transform(np.reshape(x.values, (-1, 1))).reshape(l,)"
   ]
  },
  {
   "cell_type": "code",
   "execution_count": 67,
   "metadata": {},
   "outputs": [],
   "source": [
    "val_test_y = np.expm1(dummy.groupby('key')['y'].transform(lambda x: inverseminmax(x, x.name, len(x))))"
   ]
  },
  {
   "cell_type": "code",
   "execution_count": 94,
   "metadata": {},
   "outputs": [],
   "source": [
    "#print(len(val_test_y) == len(val_test_res_og))"
   ]
  },
  {
   "cell_type": "code",
   "execution_count": 119,
   "metadata": {},
   "outputs": [
    {
     "name": "stdout",
     "output_type": "stream",
     "text": [
      "Error: {312372.7293354047}\n"
     ]
    }
   ],
   "source": [
    "print(\"Error: \" +str({np.sqrt(np.mean(np.square(val_test_res_og - val_test_y)))}))"
   ]
  },
  {
   "cell_type": "markdown",
   "metadata": {},
   "source": [
    "#### Defining Function for Prediction - Method 1"
   ]
  },
  {
   "cell_type": "code",
   "execution_count": 98,
   "metadata": {},
   "outputs": [],
   "source": [
    "test_gen = TestDataGenerator(test, num_cols=num_cols, \n",
    "                        cat_names=cat_names,\n",
    "                        batch_size=batch_size)"
   ]
  },
  {
   "cell_type": "code",
   "execution_count": 99,
   "metadata": {},
   "outputs": [
    {
     "data": {
      "text/plain": [
       "679"
      ]
     },
     "execution_count": 99,
     "metadata": {},
     "output_type": "execute_result"
    }
   ],
   "source": [
    "len(test_gen)"
   ]
  },
  {
   "cell_type": "code",
   "execution_count": 100,
   "metadata": {},
   "outputs": [
    {
     "data": {
      "text/plain": [
       "['site_id', 'hour', 'dayofweek', 'month', 'primary_use', 'year_built']"
      ]
     },
     "execution_count": 100,
     "metadata": {},
     "output_type": "execute_result"
    }
   ],
   "source": [
    "cat_cols"
   ]
  },
  {
   "cell_type": "code",
   "execution_count": 101,
   "metadata": {},
   "outputs": [],
   "source": [
    "#enc.categories_"
   ]
  },
  {
   "cell_type": "code",
   "execution_count": 102,
   "metadata": {},
   "outputs": [],
   "source": [
    "#test.loc[40525*1024: (40525*1024)+1024]#.dt.month"
   ]
  },
  {
   "cell_type": "code",
   "execution_count": 104,
   "metadata": {},
   "outputs": [
    {
     "name": "stdout",
     "output_type": "stream",
     "text": [
      "679/679 [==============================] - 19s 28ms/step\n"
     ]
    }
   ],
   "source": [
    "result = model3.predict_generator(generator=test_gen, workers=12, use_multiprocessing=True, verbose=1)"
   ]
  },
  {
   "cell_type": "code",
   "execution_count": 105,
   "metadata": {},
   "outputs": [
    {
     "data": {
      "text/plain": [
       "array([[0.00056562],\n",
       "       [0.30450416],\n",
       "       [0.08541593],\n",
       "       ...,\n",
       "       [0.5251958 ],\n",
       "       [0.33792466],\n",
       "       [0.3352927 ]], dtype=float32)"
      ]
     },
     "execution_count": 105,
     "metadata": {},
     "output_type": "execute_result"
    }
   ],
   "source": [
    "result# = None"
   ]
  },
  {
   "cell_type": "code",
   "execution_count": null,
   "metadata": {},
   "outputs": [],
   "source": [
    "result.shape"
   ]
  },
  {
   "cell_type": "code",
   "execution_count": 126,
   "metadata": {},
   "outputs": [],
   "source": [
    "#pd.Series(np.expm1(scaler1.inverse_transform(result)).reshape(result.shape[0],))"
   ]
  },
  {
   "cell_type": "code",
   "execution_count": 127,
   "metadata": {},
   "outputs": [],
   "source": [
    "#len(pd.read_csv(\"gs://123test_bucket/test.csv\"))"
   ]
  },
  {
   "cell_type": "code",
   "execution_count": 128,
   "metadata": {},
   "outputs": [
    {
     "data": {
      "text/plain": [
       "407.203125"
      ]
     },
     "execution_count": 128,
     "metadata": {},
     "output_type": "execute_result"
    }
   ],
   "source": [
    "41697600/batch_size"
   ]
  },
  {
   "cell_type": "code",
   "execution_count": 112,
   "metadata": {},
   "outputs": [
    {
     "data": {
      "text/plain": [
       "array(['00', '10', '20', '30', '40', '50', '60', '70', '71', '80', '90'],\n",
       "      dtype=object)"
      ]
     },
     "execution_count": 112,
     "metadata": {},
     "output_type": "execute_result"
    }
   ],
   "source": [
    "(test.loc[0:10,'building_id'].astype(str) + test.loc[0:10,'meter'].astype(str)).values"
   ]
  },
  {
   "cell_type": "code",
   "execution_count": 116,
   "metadata": {},
   "outputs": [],
   "source": [
    "result_df = pd.DataFrame()\n",
    "result_df['key'] = (test['building_id'].astype(str) + test['meter'].astype(str)).values"
   ]
  },
  {
   "cell_type": "code",
   "execution_count": 117,
   "metadata": {},
   "outputs": [],
   "source": [
    "result_df['meter_reading']=result\n",
    "result_df['row_id']=test['row_id']"
   ]
  },
  {
   "cell_type": "code",
   "execution_count": 118,
   "metadata": {},
   "outputs": [
    {
     "data": {
      "text/html": [
       "<div>\n",
       "<style scoped>\n",
       "    .dataframe tbody tr th:only-of-type {\n",
       "        vertical-align: middle;\n",
       "    }\n",
       "\n",
       "    .dataframe tbody tr th {\n",
       "        vertical-align: top;\n",
       "    }\n",
       "\n",
       "    .dataframe thead th {\n",
       "        text-align: right;\n",
       "    }\n",
       "</style>\n",
       "<table border=\"1\" class=\"dataframe\">\n",
       "  <thead>\n",
       "    <tr style=\"text-align: right;\">\n",
       "      <th></th>\n",
       "      <th>key</th>\n",
       "      <th>meter_reading</th>\n",
       "      <th>row_id</th>\n",
       "    </tr>\n",
       "  </thead>\n",
       "  <tbody>\n",
       "    <tr>\n",
       "      <td>0</td>\n",
       "      <td>00</td>\n",
       "      <td>0.000566</td>\n",
       "      <td>0</td>\n",
       "    </tr>\n",
       "    <tr>\n",
       "      <td>1</td>\n",
       "      <td>10</td>\n",
       "      <td>0.304504</td>\n",
       "      <td>1</td>\n",
       "    </tr>\n",
       "    <tr>\n",
       "      <td>2</td>\n",
       "      <td>20</td>\n",
       "      <td>0.085416</td>\n",
       "      <td>2</td>\n",
       "    </tr>\n",
       "    <tr>\n",
       "      <td>3</td>\n",
       "      <td>30</td>\n",
       "      <td>0.000918</td>\n",
       "      <td>3</td>\n",
       "    </tr>\n",
       "    <tr>\n",
       "      <td>4</td>\n",
       "      <td>40</td>\n",
       "      <td>0.000958</td>\n",
       "      <td>4</td>\n",
       "    </tr>\n",
       "  </tbody>\n",
       "</table>\n",
       "</div>"
      ],
      "text/plain": [
       "  key  meter_reading  row_id\n",
       "0  00       0.000566       0\n",
       "1  10       0.304504       1\n",
       "2  20       0.085416       2\n",
       "3  30       0.000918       3\n",
       "4  40       0.000958       4"
      ]
     },
     "execution_count": 118,
     "metadata": {},
     "output_type": "execute_result"
    }
   ],
   "source": [
    "result_df.head()"
   ]
  },
  {
   "cell_type": "code",
   "execution_count": 119,
   "metadata": {},
   "outputs": [],
   "source": [
    "result_df['meter_reading'] = np.expm1(result_df.groupby('key')['meter_reading'].transform(lambda x: inverseminmax(x, x.name, len(x))))"
   ]
  },
  {
   "cell_type": "code",
   "execution_count": 120,
   "metadata": {},
   "outputs": [],
   "source": [
    "result_df = result_df[['row_id', 'meter_reading']]"
   ]
  },
  {
   "cell_type": "code",
   "execution_count": 121,
   "metadata": {},
   "outputs": [
    {
     "data": {
      "text/html": [
       "<div>\n",
       "<style scoped>\n",
       "    .dataframe tbody tr th:only-of-type {\n",
       "        vertical-align: middle;\n",
       "    }\n",
       "\n",
       "    .dataframe tbody tr th {\n",
       "        vertical-align: top;\n",
       "    }\n",
       "\n",
       "    .dataframe thead th {\n",
       "        text-align: right;\n",
       "    }\n",
       "</style>\n",
       "<table border=\"1\" class=\"dataframe\">\n",
       "  <thead>\n",
       "    <tr style=\"text-align: right;\">\n",
       "      <th></th>\n",
       "      <th>row_id</th>\n",
       "      <th>meter_reading</th>\n",
       "    </tr>\n",
       "  </thead>\n",
       "  <tbody>\n",
       "    <tr>\n",
       "      <td>0</td>\n",
       "      <td>0</td>\n",
       "      <td>0.003460</td>\n",
       "    </tr>\n",
       "    <tr>\n",
       "      <td>1</td>\n",
       "      <td>1</td>\n",
       "      <td>4.411518</td>\n",
       "    </tr>\n",
       "  </tbody>\n",
       "</table>\n",
       "</div>"
      ],
      "text/plain": [
       "   row_id  meter_reading\n",
       "0       0       0.003460\n",
       "1       1       4.411518"
      ]
     },
     "execution_count": 121,
     "metadata": {},
     "output_type": "execute_result"
    }
   ],
   "source": [
    "result_df.head(2)"
   ]
  },
  {
   "cell_type": "code",
   "execution_count": 122,
   "metadata": {},
   "outputs": [
    {
     "data": {
      "text/plain": [
       "(41697600, 2)"
      ]
     },
     "execution_count": 122,
     "metadata": {},
     "output_type": "execute_result"
    }
   ],
   "source": [
    "result_df.shape"
   ]
  },
  {
   "cell_type": "code",
   "execution_count": 123,
   "metadata": {},
   "outputs": [],
   "source": [
    "result_df.to_csv(\"gs://123test_bucket/result.csv\", index=False)"
   ]
  },
  {
   "cell_type": "code",
   "execution_count": 61,
   "metadata": {},
   "outputs": [
    {
     "data": {
      "text/plain": [
       "(41697600, 2)"
      ]
     },
     "execution_count": 61,
     "metadata": {},
     "output_type": "execute_result"
    }
   ],
   "source": [
    "check = pd.read_csv(\"result.csv\")\n",
    "check.shape"
   ]
  },
  {
   "cell_type": "code",
   "execution_count": 68,
   "metadata": {},
   "outputs": [
    {
     "data": {
      "text/html": [
       "<div>\n",
       "<style scoped>\n",
       "    .dataframe tbody tr th:only-of-type {\n",
       "        vertical-align: middle;\n",
       "    }\n",
       "\n",
       "    .dataframe tbody tr th {\n",
       "        vertical-align: top;\n",
       "    }\n",
       "\n",
       "    .dataframe thead th {\n",
       "        text-align: right;\n",
       "    }\n",
       "</style>\n",
       "<table border=\"1\" class=\"dataframe\">\n",
       "  <thead>\n",
       "    <tr style=\"text-align: right;\">\n",
       "      <th></th>\n",
       "      <th>row_id</th>\n",
       "      <th>meter_reading</th>\n",
       "    </tr>\n",
       "  </thead>\n",
       "  <tbody>\n",
       "  </tbody>\n",
       "</table>\n",
       "</div>"
      ],
      "text/plain": [
       "Empty DataFrame\n",
       "Columns: [row_id, meter_reading]\n",
       "Index: []"
      ]
     },
     "execution_count": 68,
     "metadata": {},
     "output_type": "execute_result"
    }
   ],
   "source": [
    "result_df[result_df.meter_reading.isnull()]"
   ]
  },
  {
   "cell_type": "code",
   "execution_count": 74,
   "metadata": {},
   "outputs": [],
   "source": [
    "sample = pd.read_csv(\"gs://123test_bucket/sample_submission.csv\")"
   ]
  },
  {
   "cell_type": "code",
   "execution_count": 76,
   "metadata": {},
   "outputs": [],
   "source": [
    "sample['meter_reading'] = result_df['meter_reading']"
   ]
  },
  {
   "cell_type": "code",
   "execution_count": 77,
   "metadata": {},
   "outputs": [],
   "source": [
    "sample = sample.fillna(0)"
   ]
  },
  {
   "cell_type": "code",
   "execution_count": 78,
   "metadata": {},
   "outputs": [],
   "source": [
    "sample.to_csv(\"result_sample.csv\", index=False)"
   ]
  },
  {
   "cell_type": "code",
   "execution_count": 79,
   "metadata": {},
   "outputs": [
    {
     "name": "stdout",
     "output_type": "stream",
     "text": [
      "Saved model to disk\n"
     ]
    }
   ],
   "source": [
    "# serialize model to JSON\n",
    "model_json = model2.to_json()\n",
    "with open(\"model.json\", \"w\") as json_file:\n",
    "    json_file.write(model_json)\n",
    "# serialize weights to HDF5\n",
    "model2.save_weights(\"model.h5\")\n",
    "print(\"Saved model to disk\")"
   ]
  },
  {
   "cell_type": "code",
   "execution_count": null,
   "metadata": {},
   "outputs": [],
   "source": []
  }
 ],
 "metadata": {
  "kernelspec": {
   "display_name": "Python 3",
   "language": "python",
   "name": "python3"
  },
  "language_info": {
   "codemirror_mode": {
    "name": "ipython",
    "version": 3
   },
   "file_extension": ".py",
   "mimetype": "text/x-python",
   "name": "python",
   "nbconvert_exporter": "python",
   "pygments_lexer": "ipython3",
   "version": "3.5.3"
  }
 },
 "nbformat": 4,
 "nbformat_minor": 4
}
